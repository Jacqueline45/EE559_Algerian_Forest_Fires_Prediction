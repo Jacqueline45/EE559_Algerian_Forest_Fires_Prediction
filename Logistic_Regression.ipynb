{
  "nbformat": 4,
  "nbformat_minor": 0,
  "metadata": {
    "colab": {
      "name": "Logistic Regression.ipynb",
      "provenance": [],
      "collapsed_sections": [],
      "authorship_tag": "ABX9TyNrG4eOtr2/DWo8nKWUX5fD",
      "include_colab_link": true
    },
    "kernelspec": {
      "name": "python3",
      "display_name": "Python 3"
    },
    "language_info": {
      "name": "python"
    }
  },
  "cells": [
    {
      "cell_type": "markdown",
      "metadata": {
        "id": "view-in-github",
        "colab_type": "text"
      },
      "source": [
        "<a href=\"https://colab.research.google.com/github/Jacqueline45/EE559_Project/blob/main/Logistic_Regression.ipynb\" target=\"_parent\"><img src=\"https://colab.research.google.com/assets/colab-badge.svg\" alt=\"Open In Colab\"/></a>"
      ]
    },
    {
      "cell_type": "code",
      "execution_count": 1,
      "metadata": {
        "id": "5-i828-bC-vv"
      },
      "outputs": [],
      "source": [
        "# fig, axes = plt.subplots(figsize=(16, 12))\n",
        "# plot = sns.boxplot(data=x4[high_index],ax=axes)\n",
        "# plt.xticks(rotation=30)\n",
        "# plt.show()"
      ]
    },
    {
      "cell_type": "code",
      "source": [
        "!unzip /content/EE559_Project-main.zip"
      ],
      "metadata": {
        "colab": {
          "base_uri": "https://localhost:8080/"
        },
        "id": "PxjyMdkEKG1c",
        "outputId": "1ed7fe71-6969-4ab4-c24f-ce4a2b9a667e"
      },
      "execution_count": 2,
      "outputs": [
        {
          "output_type": "stream",
          "name": "stdout",
          "text": [
            "Archive:  /content/EE559_Project-main.zip\n",
            "cd4e0a51e0b87e7bb5bd032f2efedcc9a0da1845\n",
            "   creating: EE559_Project-main/\n",
            "  inflating: EE559_Project-main/.DS_Store  \n",
            " extracting: EE559_Project-main/.gitignore  \n",
            "  inflating: EE559_Project-main/Feature_Selection.py  \n",
            "  inflating: EE559_Project-main/MSE.py  \n",
            "  inflating: EE559_Project-main/README.md  \n",
            "  inflating: EE559_Project-main/baseline.py  \n",
            "   creating: EE559_Project-main/cf_matrix_plots/\n",
            "  inflating: EE559_Project-main/cf_matrix_plots/MSE.png  \n",
            "  inflating: EE559_Project-main/cf_matrix_plots/MSE_val.png  \n",
            "  inflating: EE559_Project-main/cf_matrix_plots/baseline_system.png  \n",
            "  inflating: EE559_Project-main/cf_matrix_plots/baseline_system_val.png  \n",
            "  inflating: EE559_Project-main/cf_matrix_plots/kNN_SMOTE_k=5.png  \n",
            "  inflating: EE559_Project-main/cf_matrix_plots/kNN_SMOTE_k=7.png  \n",
            "  inflating: EE559_Project-main/cf_matrix_plots/kNN_add_1_feat_k=5.png  \n",
            "  inflating: EE559_Project-main/cf_matrix_plots/kNN_add_1_feat_k=7.png  \n",
            "  inflating: EE559_Project-main/cf_matrix_plots/kNN_feat_reduct_k=5.png  \n",
            "  inflating: EE559_Project-main/cf_matrix_plots/kNN_feat_reduct_k=7.png  \n",
            "  inflating: EE559_Project-main/cf_matrix_plots/kNN_k=2.png  \n",
            "  inflating: EE559_Project-main/cf_matrix_plots/kNN_k=3.png  \n",
            "  inflating: EE559_Project-main/cf_matrix_plots/kNN_k=4.png  \n",
            "  inflating: EE559_Project-main/cf_matrix_plots/kNN_k=5.png  \n",
            "  inflating: EE559_Project-main/cf_matrix_plots/kNN_k=6.png  \n",
            "  inflating: EE559_Project-main/cf_matrix_plots/kNN_k=7.png  \n",
            "  inflating: EE559_Project-main/cf_matrix_plots/kNN_k=8.png  \n",
            "  inflating: EE559_Project-main/cf_matrix_plots/p_MSE_SMOTE.png  \n",
            "  inflating: EE559_Project-main/cf_matrix_plots/p_add_1_feat.png  \n",
            "  inflating: EE559_Project-main/cf_matrix_plots/p_add_1_feat_margin.png  \n",
            "  inflating: EE559_Project-main/cf_matrix_plots/p_feat_reduct.png  \n",
            "  inflating: EE559_Project-main/cf_matrix_plots/p_feat_reduct_val.png  \n",
            "  inflating: EE559_Project-main/cf_matrix_plots/p_norm.png  \n",
            "  inflating: EE559_Project-main/cf_matrix_plots/p_std.png  \n",
            "  inflating: EE559_Project-main/cf_matrix_plots/p_std_SMOTE.png  \n",
            "  inflating: EE559_Project-main/cf_matrix_plots/p_std_SMOTE_val.png  \n",
            "  inflating: EE559_Project-main/cf_matrix_plots/perceptron.png  \n",
            "  inflating: EE559_Project-main/cf_matrix_plots/trivial_system.png  \n",
            "  inflating: EE559_Project-main/cf_matrix_plots/trivial_system_val.png  \n",
            "  inflating: EE559_Project-main/data_analysis.py  \n",
            "   creating: EE559_Project-main/datasets/\n",
            "  inflating: EE559_Project-main/datasets/algerian_fires_test.csv  \n",
            "  inflating: EE559_Project-main/datasets/algerian_fires_train.csv  \n",
            "   creating: EE559_Project-main/feat_KDE/\n",
            "  inflating: EE559_Project-main/feat_KDE/BUI.png  \n",
            "  inflating: EE559_Project-main/feat_KDE/DC.png  \n",
            "  inflating: EE559_Project-main/feat_KDE/DMC.png  \n",
            "  inflating: EE559_Project-main/feat_KDE/FFMC.png  \n",
            "  inflating: EE559_Project-main/feat_KDE/ISI.png  \n",
            "  inflating: EE559_Project-main/feat_KDE/RH.png  \n",
            "  inflating: EE559_Project-main/feat_KDE/Rain.png  \n",
            "  inflating: EE559_Project-main/feat_KDE/Temperature.png  \n",
            "  inflating: EE559_Project-main/feat_KDE/Ws.png  \n",
            "   creating: EE559_Project-main/feat_KDE_test/\n",
            "  inflating: EE559_Project-main/feat_KDE_test/BUI.png  \n",
            "  inflating: EE559_Project-main/feat_KDE_test/DC.png  \n",
            "  inflating: EE559_Project-main/feat_KDE_test/DMC.png  \n",
            "  inflating: EE559_Project-main/feat_KDE_test/FFMC.png  \n",
            "  inflating: EE559_Project-main/feat_KDE_test/ISI.png  \n",
            "  inflating: EE559_Project-main/feat_KDE_test/RH.png  \n",
            "  inflating: EE559_Project-main/feat_KDE_test/Rain.png  \n",
            "  inflating: EE559_Project-main/feat_KDE_test/Temperature.png  \n",
            "  inflating: EE559_Project-main/feat_KDE_test/Ws.png  \n",
            "  inflating: EE559_Project-main/kNN.py  \n",
            "  inflating: EE559_Project-main/perceptron.py  \n",
            "  inflating: EE559_Project-main/trivial.py  \n",
            "   creating: EE559_Project-main/utils/\n",
            "  inflating: EE559_Project-main/utils/Add_feat.py  \n",
            "  inflating: EE559_Project-main/utils/metrics.py  \n",
            "  inflating: EE559_Project-main/utils/read_data.py  \n"
          ]
        }
      ]
    },
    {
      "cell_type": "code",
      "source": [
        "import pandas as pd\n",
        "import numpy as np\n",
        "import seaborn as sns\n",
        "\n",
        "from sklearn.preprocessing import MinMaxScaler\n",
        "import warnings\n",
        "warnings.filterwarnings('ignore')"
      ],
      "metadata": {
        "id": "SLnLo2mgKHHp"
      },
      "execution_count": 14,
      "outputs": []
    },
    {
      "cell_type": "code",
      "source": [
        "fires_train = pd.read_csv(\"/content/EE559_Project-main/datasets/algerian_fires_train.csv\")\n",
        "fires_test = pd.read_csv(\"/content/EE559_Project-main/datasets/algerian_fires_test.csv\")\n",
        "\n",
        "fires_trainx = fires_train.iloc[:,1:-1]\n",
        "fires_trainy = fires_train.iloc[:,-1]\n",
        "fires_testx = fires_test.iloc[:,1:-1]\n",
        "fires_testy = fires_test.iloc[:,-1]\n",
        "\n",
        "scalar = MinMaxScaler()\n",
        "\n",
        "fires = scalar.fit_transform(fires_trainx)\n",
        "firestst = scalar.fit_transform(fires_testx)"
      ],
      "metadata": {
        "id": "hFxRpmZN9ezY"
      },
      "execution_count": 15,
      "outputs": []
    },
    {
      "cell_type": "code",
      "source": [
        "def metrics(true_labels, pred_labels, plot_title, work='test'):\n",
        "    cf_matrix = confusion_matrix(true_labels, pred_labels)\n",
        "    TP, TN, FP, FN = cf_matrix[1][1], cf_matrix[0][0], cf_matrix[0][1], cf_matrix[1][0]\n",
        "    Recall = TP/(TP+FN)\n",
        "    Precision = TP/(TP+FP)\n",
        "    F1_score = 2*Recall*Precision/(Recall+Precision)\n",
        "    Accuracy = (TP+TN)/true_labels.shape[0]\n",
        "    \n",
        "    if work == 'test':\n",
        "        ax = sns.heatmap(cf_matrix, annot=True, cmap='Blues')\n",
        "\n",
        "        ax.set_title(plot_title)\n",
        "        ax.set_xlabel('Predicted Values')\n",
        "        ax.set_ylabel('Actual Values ')\n",
        "\n",
        "        ax.xaxis.set_ticklabels(['0','1'])\n",
        "        ax.yaxis.set_ticklabels(['0','1'])\n",
        "\n",
        "        plt.savefig('/content/EE559_Project-main/cf_matrix_plots/'+plot_title+'.png')\n",
        "\n",
        "        return F1_score, Accuracy\n",
        "\n",
        "    else:\n",
        "        return F1_score, Accuracy, TP, TN, FP, FN"
      ],
      "metadata": {
        "id": "meS4gtUbM8ZK"
      },
      "execution_count": 17,
      "outputs": []
    },
    {
      "cell_type": "code",
      "source": [
        "import statsmodels.api as sm\n",
        "import pandas as pd\n",
        "\n",
        "X = sm.add_constant(fires_trainx)\n",
        "log_reg = sm.Logit(fires_trainy, X)\n",
        "log1 = log_reg.fit(method = \"cg\")\n",
        "print(log1.summary())"
      ],
      "metadata": {
        "colab": {
          "base_uri": "https://localhost:8080/"
        },
        "id": "l6zEdKb_Hkaf",
        "outputId": "ce600194-b246-4732-c1a8-4622fa5ad4a5"
      },
      "execution_count": 18,
      "outputs": [
        {
          "output_type": "stream",
          "name": "stdout",
          "text": [
            "Warning: Maximum number of iterations has been exceeded.\n",
            "         Current function value: 0.245380\n",
            "         Iterations: 35\n",
            "         Function evaluations: 66\n",
            "         Gradient evaluations: 66\n",
            "                           Logit Regression Results                           \n",
            "==============================================================================\n",
            "Dep. Variable:                Classes   No. Observations:                  184\n",
            "Model:                          Logit   Df Residuals:                      174\n",
            "Method:                           MLE   Df Model:                            9\n",
            "Date:                Sun, 01 May 2022   Pseudo R-squ.:                  0.6291\n",
            "Time:                        20:02:57   Log-Likelihood:                -45.150\n",
            "converged:                      False   LL-Null:                       -121.73\n",
            "Covariance Type:            nonrobust   LLR p-value:                 1.956e-28\n",
            "===============================================================================\n",
            "                  coef    std err          z      P>|z|      [0.025      0.975]\n",
            "-------------------------------------------------------------------------------\n",
            "const          -0.0270      1.395     -0.019      0.985      -2.761       2.707\n",
            "Temperature    -0.0085      0.025     -0.346      0.729      -0.057       0.040\n",
            "RH             -0.0156      0.012     -1.360      0.174      -0.038       0.007\n",
            "Ws             -0.0281      0.044     -0.632      0.527      -0.115       0.059\n",
            "Rain           -0.1213      0.176     -0.691      0.489      -0.465       0.223\n",
            "FFMC           -0.0023      0.011     -0.203      0.839      -0.024       0.019\n",
            "DMC            -0.0076      0.043     -0.178      0.859      -0.091       0.076\n",
            "DC              0.0112      0.010      1.079      0.280      -0.009       0.031\n",
            "ISI             0.5235      0.120      4.364      0.000       0.288       0.759\n",
            "BUI             0.0167      0.045      0.374      0.708      -0.071       0.104\n",
            "===============================================================================\n"
          ]
        }
      ]
    },
    {
      "cell_type": "code",
      "source": [
        "#Taking all features\n",
        "\n",
        "from sklearn.linear_model import LogisticRegression\n",
        "import statsmodels.api as sm\n",
        "from sklearn.metrics import confusion_matrix,roc_curve, auc,roc_auc_score\n",
        "import matplotlib.pyplot as plt\n",
        "import seaborn as sns\n",
        "\n",
        "logreg = LogisticRegression()\n",
        "logreg.fit(fires_trainx, fires_trainy)\n",
        "Y_pred = logreg.predict(fires_trainx)\n",
        "val=logreg.score(fires_trainx,fires_trainy)\n",
        "print(\"Accuracy for train:\",val)\n",
        "print(\"--------------------------\")\n",
        "conf_matrix = confusion_matrix(fires_trainy, Y_pred)\n",
        "sns.heatmap(conf_matrix, annot=True, square=True, cmap='Blues', fmt=\"d\", cbar=True)\n",
        "print(conf_matrix)\n",
        "plt.ylabel('Actual label');\n",
        "plt.xlabel('Predicted label');"
      ],
      "metadata": {
        "id": "TvvsnstcRvPe"
      },
      "execution_count": null,
      "outputs": []
    },
    {
      "cell_type": "code",
      "source": [
        "F1_score, Accuracy = metrics(fires_trainy,Y_pred, \"Logistic_reg_train\")\n",
        "print(\"Train Logistic regression F1_score=\", F1_score, \"Train Logistic regression Accuracy=\", Accuracy)"
      ],
      "metadata": {
        "colab": {
          "base_uri": "https://localhost:8080/",
          "height": 313
        },
        "id": "X26AvnFROeGy",
        "outputId": "420cba53-4f2e-4c4e-a400-9bb7659cac26"
      },
      "execution_count": 28,
      "outputs": [
        {
          "output_type": "stream",
          "name": "stdout",
          "text": [
            "Train Logistic regression F1_score= 0.9385964912280702 Train Logistic regression Accuracy= 0.9239130434782609\n"
          ]
        },
        {
          "output_type": "display_data",
          "data": {
            "text/plain": [
              "<Figure size 432x288 with 2 Axes>"
            ],
            "image/png": "[encoded data removed]"
          },
          "metadata": {
            "needs_background": "light"
          }
        }
      ]
    },
    {
      "cell_type": "code",
      "source": [
        "#Taking all features\n",
        "Y_predtst = logreg.predict(fires_testx)\n",
        "val=logreg.score(fires_testx,fires_testy)\n",
        "print(\"Accuracy for test:\",val)\n",
        "print(\"--------------------------\")\n",
        "conf_matrix = confusion_matrix(fires_testy, Y_predtst)\n",
        "sns.heatmap(conf_matrix, annot=True, square=True, cmap='Blues', fmt=\"d\", cbar=True)\n",
        "print(conf_matrix)\n",
        "plt.ylabel('Actual Test label');\n",
        "plt.xlabel('Predicted Test label');"
      ],
      "metadata": {
        "id": "Y5AgZmpxSkVP"
      },
      "execution_count": null,
      "outputs": []
    },
    {
      "cell_type": "code",
      "source": [
        "F1_score, Accuracy = metrics(fires_testy,Y_predtst, \"Logistic_reg_test\")\n",
        "print(\"Test Logistic regression F1_score=\", F1_score, \"Test Logistic regression Accuracy=\", Accuracy)"
      ],
      "metadata": {
        "colab": {
          "base_uri": "https://localhost:8080/",
          "height": 313
        },
        "id": "5kFQHLfPPM1C",
        "outputId": "b17a949f-0316-4814-c3ae-dc2918a249d9"
      },
      "execution_count": 30,
      "outputs": [
        {
          "output_type": "stream",
          "name": "stdout",
          "text": [
            "Test Logistic regression F1_score= 0.8260869565217391 Test Logistic regression Accuracy= 0.8666666666666667\n"
          ]
        },
        {
          "output_type": "display_data",
          "data": {
            "text/plain": [
              "<Figure size 432x288 with 2 Axes>"
            ],
            "image/png": "[encoded data removed]"
          },
          "metadata": {
            "needs_background": "light"
          }
        }
      ]
    },
    {
      "cell_type": "markdown",
      "source": [
        "\n",
        ">If our p value is less than 0.05 then we reject the null hypothesis \n",
        "And if you see we are getting a p value of 0.00, that means the 'ISI' is the best feature for the calculation so we will drop the others and predict logistic regression on just ISI Feature and See what it results."
      ],
      "metadata": {
        "id": "tBKFHj73QNsH"
      }
    },
    {
      "cell_type": "code",
      "source": [
        "#Only ISI\n",
        "df = pd.read_csv('/content/EE559_Project-main/datasets/algerian_fires_train.csv', usecols=['ISI'])\n",
        "dftst = pd.read_csv('/content/EE559_Project-main/datasets/algerian_fires_test.csv', usecols=['ISI'])"
      ],
      "metadata": {
        "id": "ZxIJCTmJU0H-"
      },
      "execution_count": 31,
      "outputs": []
    },
    {
      "cell_type": "code",
      "source": [
        "from sklearn.metrics import accuracy_score\n",
        "\n",
        "plt.tight_layout()\n",
        "\n",
        "plt.figure(figsize = (10,20))\n",
        "plt.subplot(3,2,1)\n",
        "logreg = LogisticRegression()\n",
        "logreg.fit(df, fires_trainy)\n",
        "Y_pred = logreg.predict(df)\n",
        "val=accuracy_score(fires_trainy, Y_pred)\n",
        "print(\"Accuracy for train for Only ISI:\",val)\n",
        "print(\"--------------------------\")\n",
        "conf_matrix = confusion_matrix(fires_trainy, Y_pred)\n",
        "sns.heatmap(conf_matrix, annot=True, square=True, cmap='Blues', fmt=\"d\", cbar=True)\n",
        "print(conf_matrix)\n",
        "plt.ylabel('Actual label only Train ISI');\n",
        "plt.xlabel('Predicted label only Train ISI');\n",
        "\n",
        "plt.subplot(3,2,2)\n",
        "Y_predtst = logreg.predict(dftst)\n",
        "val3=accuracy_score(fires_testy, Y_predtst)\n",
        "print(\"Accuracy for test only ISI:\",val3)\n",
        "print(\"--------------------------\")\n",
        "conf_matrix = confusion_matrix(fires_testy, Y_predtst)\n",
        "sns.heatmap(conf_matrix, annot=True, square=True, cmap='Blues', fmt=\"d\", cbar=True)\n",
        "print(conf_matrix)\n",
        "plt.ylabel('Actual label only Test ISI');\n",
        "plt.xlabel('Predicted label only Test ISI');"
      ],
      "metadata": {
        "colab": {
          "base_uri": "https://localhost:8080/",
          "height": 516
        },
        "id": "6I1TK0-Lg-q2",
        "outputId": "58de2642-a4d4-4e3c-8b6b-d3e81bc07276"
      },
      "execution_count": 37,
      "outputs": [
        {
          "output_type": "stream",
          "name": "stdout",
          "text": [
            "Accuracy for train for Only ISI: 0.9130434782608695\n",
            "--------------------------\n",
            "[[ 62   7]\n",
            " [  9 106]]\n",
            "Accuracy for test only ISI: 0.8666666666666667\n",
            "--------------------------\n",
            "[[33  4]\n",
            " [ 4 19]]\n"
          ]
        },
        {
          "output_type": "display_data",
          "data": {
            "text/plain": [
              "<Figure size 432x288 with 0 Axes>"
            ]
          },
          "metadata": {}
        },
        {
          "output_type": "display_data",
          "data": {
            "text/plain": [
              "<Figure size 720x1440 with 4 Axes>"
            ],
            "image/png": "[encoded data removed]"
          },
          "metadata": {
            "needs_background": "light"
          }
        }
      ]
    },
    {
      "cell_type": "code",
      "source": [
        "#1drop temperature\n",
        "fires_trainx_1 = fires_train.iloc[:,2:-1]\n",
        "fires_trainy_1 = fires_train.iloc[:,-1]\n",
        "fires_testx_1 = fires_test.iloc[:,2:-1]\n",
        "fires_testy_1 = fires_test.iloc[:,-1]\n",
        "#2drop Temp,RH\n",
        "fires_trainx_2 = fires_train.iloc[:,3:-1]\n",
        "fires_trainy_2 = fires_train.iloc[:,-1]\n",
        "fires_testx_2 = fires_test.iloc[:,3:-1]\n",
        "fires_testy_2 = fires_test.iloc[:,-1]\n",
        "\n",
        "#3drop Temp,RH, Ws\n",
        "fires_trainx_3 = fires_train.iloc[:,4:-1]\n",
        "fires_trainy_3 = fires_train.iloc[:,-1]\n",
        "fires_testx_3 = fires_test.iloc[:,4:-1]\n",
        "fires_testy_3 = fires_test.iloc[:,-1]\n"
      ],
      "metadata": {
        "id": "1aqqoTSiUEJ_"
      },
      "execution_count": 38,
      "outputs": []
    },
    {
      "cell_type": "code",
      "source": [
        "#1drop\n",
        "###############Working \n",
        "from sklearn.metrics import accuracy_score\n",
        "plt.tight_layout()\n",
        "plt.figure(figsize = (10,20))\n",
        "plt.subplot(3,2,1)\n",
        "logreg1 = LogisticRegression()\n",
        "logreg1.fit(fires_trainx_1, fires_trainy_1)\n",
        "Y_pred1 = logreg1.predict(fires_trainx_1)\n",
        "val1=accuracy_score(fires_trainy_1, Y_pred1)\n",
        "print(\"Accuracy for train 1drop :\",val1)\n",
        "print(\"--------------------------\")\n",
        "conf_matrix = confusion_matrix(fires_trainy_1, Y_pred1)\n",
        "sns.heatmap(conf_matrix, annot=True, square=True, cmap='Blues', fmt=\"d\", cbar=True)\n",
        "print(conf_matrix)\n",
        "plt.ylabel('Actual label 1drop');\n",
        "plt.xlabel('Predicted label 1drop');\n",
        "\n",
        "plt.subplot(3,2,2)\n",
        "Y_predtst1 = logreg1.predict(fires_testx_1)\n",
        "val12=accuracy_score(fires_testy_1,Y_predtst1)\n",
        "print(\"Accuracy for test 1drop:\",val12)\n",
        "print(\"--------------------------\")\n",
        "conf_matrix = confusion_matrix(fires_testy_1, Y_predtst1)\n",
        "sns.heatmap(conf_matrix, annot=True, square=True, cmap='Blues', fmt=\"d\", cbar=True)\n",
        "print(conf_matrix)\n",
        "plt.ylabel('Actual label test 1drop');\n",
        "plt.xlabel('Predicted label test 1drop');"
      ],
      "metadata": {
        "colab": {
          "base_uri": "https://localhost:8080/",
          "height": 516
        },
        "id": "qY8lpsIVWfk3",
        "outputId": "8aee6934-b022-41ae-d14f-bc3a9901c05f"
      },
      "execution_count": 39,
      "outputs": [
        {
          "output_type": "stream",
          "name": "stdout",
          "text": [
            "Accuracy for train 1drop : 0.9239130434782609\n",
            "--------------------------\n",
            "[[ 63   6]\n",
            " [  8 107]]\n",
            "Accuracy for test 1drop: 0.9\n",
            "--------------------------\n",
            "[[34  3]\n",
            " [ 3 20]]\n"
          ]
        },
        {
          "output_type": "display_data",
          "data": {
            "text/plain": [
              "<Figure size 432x288 with 0 Axes>"
            ]
          },
          "metadata": {}
        },
        {
          "output_type": "display_data",
          "data": {
            "text/plain": [
              "<Figure size 720x1440 with 4 Axes>"
            ],
            "image/png": "[encoded data removed]"
          },
          "metadata": {
            "needs_background": "light"
          }
        }
      ]
    },
    {
      "cell_type": "code",
      "source": [
        "#2drop\n",
        "plt.tight_layout()\n",
        "plt.figure(figsize = (10,20))\n",
        "plt.subplot(3,2,1)\n",
        "logreg2 = LogisticRegression()\n",
        "logreg2.fit(fires_trainx_2, fires_trainy_2)\n",
        "Y_pred2 = logreg2.predict(fires_trainx_2)\n",
        "val2=logreg2.score(fires_trainx_2,fires_trainy_2)\n",
        "print(\"Accuracy for train 2drop :\",val2)\n",
        "print(\"--------------------------\")\n",
        "conf_matrix = confusion_matrix(fires_trainy_2, Y_pred2)\n",
        "sns.heatmap(conf_matrix, annot=True, square=True, cmap='Blues', fmt=\"d\", cbar=True)\n",
        "print(conf_matrix)\n",
        "plt.ylabel('Actual label 2drop');\n",
        "plt.xlabel('Predicted label 2drop');\n",
        "\n",
        "plt.subplot(3,2,2)\n",
        "Y_predtst2 = logreg2.predict(fires_testx_2)\n",
        "val1212=accuracy_score(fires_testy_2,Y_predtst2)\n",
        "print(\"Accuracy for test 2drop:\",val1212)\n",
        "print(\"--------------------------\")\n",
        "conf_matrix = confusion_matrix(fires_testy_2, Y_predtst2)\n",
        "sns.heatmap(conf_matrix, annot=True, square=True, cmap='Blues', fmt=\"d\", cbar=True)\n",
        "print(conf_matrix)\n",
        "plt.ylabel('Actual label test 2drop');\n",
        "plt.xlabel('Predicted label test 2drop');"
      ],
      "metadata": {
        "colab": {
          "base_uri": "https://localhost:8080/",
          "height": 516
        },
        "id": "cHP7TgpWdu0J",
        "outputId": "cc858ada-10ea-46e0-8146-6409a30a1898"
      },
      "execution_count": 40,
      "outputs": [
        {
          "output_type": "stream",
          "name": "stdout",
          "text": [
            "Accuracy for train 2drop : 0.9239130434782609\n",
            "--------------------------\n",
            "[[ 63   6]\n",
            " [  8 107]]\n",
            "Accuracy for test 2drop: 0.8833333333333333\n",
            "--------------------------\n",
            "[[34  3]\n",
            " [ 4 19]]\n"
          ]
        },
        {
          "output_type": "display_data",
          "data": {
            "text/plain": [
              "<Figure size 432x288 with 0 Axes>"
            ]
          },
          "metadata": {}
        },
        {
          "output_type": "display_data",
          "data": {
            "text/plain": [
              "<Figure size 720x1440 with 4 Axes>"
            ],
            "image/png": "[encoded data removed]"
          },
          "metadata": {
            "needs_background": "light"
          }
        }
      ]
    },
    {
      "cell_type": "code",
      "source": [
        "#3drop\n",
        "plt.tight_layout()\n",
        "plt.figure(figsize = (10,20))\n",
        "plt.subplot(3,2,1)\n",
        "logreg3 = LogisticRegression()\n",
        "logreg3.fit(fires_trainx_3, fires_trainy_3)\n",
        "Y_pred3 = logreg3.predict(fires_trainx_3)\n",
        "val3=logreg3.score(fires_trainx_3,fires_trainy_3)\n",
        "print(\"Accuracy for train 3drop :\",val3)\n",
        "print(\"--------------------------\")\n",
        "conf_matrix = confusion_matrix(fires_trainy_3, Y_pred3)\n",
        "sns.heatmap(conf_matrix, annot=True, square=True, cmap='Blues', fmt=\"d\", cbar=True)\n",
        "print(conf_matrix)\n",
        "plt.ylabel('Actual label 2drop');\n",
        "plt.xlabel('Predicted label 2drop');\n",
        "\n",
        "plt.subplot(3,2,2)\n",
        "Y_predtst3 = logreg3.predict(fires_testx_3)\n",
        "val121212=accuracy_score(fires_testy_3,Y_predtst3)\n",
        "print(\"Accuracy for test 3drop:\",val121212)\n",
        "print(\"--------------------------\")\n",
        "conf_matrix = confusion_matrix(fires_testy_3, Y_predtst3)\n",
        "sns.heatmap(conf_matrix, annot=True, square=True, cmap='Blues', fmt=\"d\", cbar=True)\n",
        "print(conf_matrix)\n",
        "plt.ylabel('Actual label test 3drop');\n",
        "plt.xlabel('Predicted label test 3drop');"
      ],
      "metadata": {
        "colab": {
          "base_uri": "https://localhost:8080/",
          "height": 516
        },
        "id": "Oj26uJOQfM7Y",
        "outputId": "04bdc857-8347-4c69-cebf-8008bbbde608"
      },
      "execution_count": 41,
      "outputs": [
        {
          "output_type": "stream",
          "name": "stdout",
          "text": [
            "Accuracy for train 3drop : 0.9293478260869565\n",
            "--------------------------\n",
            "[[ 63   6]\n",
            " [  7 108]]\n",
            "Accuracy for test 3drop: 0.8666666666666667\n",
            "--------------------------\n",
            "[[33  4]\n",
            " [ 4 19]]\n"
          ]
        },
        {
          "output_type": "display_data",
          "data": {
            "text/plain": [
              "<Figure size 432x288 with 0 Axes>"
            ]
          },
          "metadata": {}
        },
        {
          "output_type": "display_data",
          "data": {
            "text/plain": [
              "<Figure size 720x1440 with 4 Axes>"
            ],
            "image/png": "[encoded data removed]"
          },
          "metadata": {
            "needs_background": "light"
          }
        }
      ]
    }
  ]
}