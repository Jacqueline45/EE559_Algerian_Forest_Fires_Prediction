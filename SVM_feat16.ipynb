{
  "nbformat": 4,
  "nbformat_minor": 0,
  "metadata": {
    "colab": {
      "name": "SVM.ipynb",
      "provenance": [],
      "collapsed_sections": []
    },
    "kernelspec": {
      "name": "python3",
      "display_name": "Python 3"
    },
    "language_info": {
      "name": "python"
    },
    "accelerator": "GPU"
  },
  "cells": [
    {
      "cell_type": "code",
      "source": [
        "!unzip /content/EE559_Project-main_Final.zip\n"
      ],
      "metadata": {
        "id": "0yp0e1yzfeUt"
      },
      "execution_count": null,
      "outputs": []
    },
    {
      "cell_type": "code",
      "source": [
        "import pandas as pd \n",
        "import imblearn\n",
        "import numpy as np \n",
        "\n",
        "from sklearn.preprocessing import StandardScaler\n",
        "from sklearn.neighbors import KNeighborsClassifier\n",
        "from imblearn.over_sampling import SMOTE\n",
        "\n",
        "from sklearn.svm import SVC\n",
        "from sklearn.model_selection import train_test_split"
      ],
      "metadata": {
        "id": "fmtBdtZKlp0z"
      },
      "execution_count": 28,
      "outputs": []
    },
    {
      "cell_type": "code",
      "execution_count": 29,
      "metadata": {
        "id": "rFjH9PL2mnpf",
        "colab": {
          "base_uri": "https://localhost:8080/"
        },
        "outputId": "85ce5def-bf47-4d2b-a933-68fd94745cc5"
      },
      "outputs": [
        {
          "output_type": "stream",
          "name": "stderr",
          "text": [
            "/usr/local/lib/python3.7/dist-packages/sklearn/utils/validation.py:993: DataConversionWarning: A column-vector y was passed when a 1d array was expected. Please change the shape of y to (n_samples, ), for example using ravel().\n",
            "  y = column_or_1d(y, warn=True)\n",
            "/usr/local/lib/python3.7/dist-packages/sklearn/utils/validation.py:993: DataConversionWarning: A column-vector y was passed when a 1d array was expected. Please change the shape of y to (n_samples, ), for example using ravel().\n",
            "  y = column_or_1d(y, warn=True)\n"
          ]
        }
      ],
      "source": [
        "from sklearn.preprocessing import MinMaxScaler\n",
        "from sklearn.model_selection import train_test_split\n",
        "from sklearn.svm import SVC\n",
        "\n",
        "fires_train = pd.read_csv(\"/content/EE559_Project-main/datasets/algerian_fires_train.csv\")\n",
        "fires_test = pd.read_csv(\"/content/EE559_Project-main/datasets/algerian_fires_test.csv\")\n",
        "\n",
        "data = fires_train.describe()\n",
        "tstdata = fires_test.describe()\n",
        "\n",
        "fires_train = fires_train.iloc[:,1:]\n",
        "fires_test = fires_test.iloc[:,1:]\n",
        "\n",
        "##Normalising the data as there is scale difference\n",
        "predictors = fires_train.iloc[:,:-1]\n",
        "target = fires_train.iloc[:,-1:]\n",
        "\n",
        "predictorstst = fires_test.iloc[:,:-1]\n",
        "targettst = fires_test.iloc[:,-1:]\n",
        "\n",
        "scalar = MinMaxScaler()\n",
        "\n",
        "fires = scalar.fit_transform(predictors)\n",
        "firestst = scalar.fit_transform(predictorstst)\n",
        "\n",
        " #test Linear\n",
        "model_linear = SVC(kernel = \"linear\")\n",
        "model_linear.fit(fires,target)\n",
        "pred_test_linear = model_linear.predict(firestst)\n",
        "\n",
        " #test RBF\n",
        "\n",
        "# kernel = rbf\n",
        "model_rbf = SVC(kernel = \"rbf\")\n",
        "model_rbf.fit(fires,target)\n",
        "pred_test_rbf = model_rbf.predict(firestst)"
      ]
    },
    {
      "cell_type": "code",
      "source": [
        "fires_train16 = pd.read_csv(\"/content/EE559_Project-main/datasets/firesfeatures.csv\")\n",
        "fires_test16 = pd.read_csv(\"/content/EE559_Project-main/datasets/fireststfeatures.csv\")\n",
        "\n",
        "\n",
        "scalar = MinMaxScaler()\n",
        "\n",
        "fires16 = scalar.fit_transform(fires_train16)\n",
        "firestst16 = scalar.fit_transform(fires_test16)\n",
        "\n",
        " #test Linear\n",
        "model_linear = SVC(kernel = \"linear\")\n",
        "model_linear.fit(fires16,target)\n",
        "pred_test_linear = model_linear.predict(firestst16)\n",
        "\n",
        " #test RBF\n",
        "\n",
        "# kernel = rbf\n",
        "model_rbf = SVC(kernel = \"rbf\")\n",
        "model_rbf.fit(fires16,target)\n",
        "pred_test_rbf = model_rbf.predict(firestst16)"
      ],
      "metadata": {
        "colab": {
          "base_uri": "https://localhost:8080/"
        },
        "id": "PyYu6VJj_qpA",
        "outputId": "5819531f-359c-4b60-e31d-da036f8d3777"
      },
      "execution_count": 30,
      "outputs": [
        {
          "output_type": "stream",
          "name": "stderr",
          "text": [
            "/usr/local/lib/python3.7/dist-packages/sklearn/utils/validation.py:993: DataConversionWarning: A column-vector y was passed when a 1d array was expected. Please change the shape of y to (n_samples, ), for example using ravel().\n",
            "  y = column_or_1d(y, warn=True)\n",
            "/usr/local/lib/python3.7/dist-packages/sklearn/utils/validation.py:993: DataConversionWarning: A column-vector y was passed when a 1d array was expected. Please change the shape of y to (n_samples, ), for example using ravel().\n",
            "  y = column_or_1d(y, warn=True)\n"
          ]
        }
      ]
    },
    {
      "cell_type": "code",
      "source": [
        "from sklearn import svm\n",
        "import matplotlib.pyplot as plt\n",
        "def feature_plot(classifier, feature_names, top_features=4):\n",
        " coef = classifier.coef_.ravel()\n",
        " top_positive_coefficients = np.argsort(coef)[-top_features:]\n",
        " top_negative_coefficients = np.argsort(coef)[:top_features]\n",
        " top_coefficients = np.hstack([top_negative_coefficients, top_positive_coefficients])\n",
        " plt.figure(figsize=(18, 7))\n",
        " colors = ['green' if c < 0 else 'blue' for c in coef[top_coefficients]]\n",
        " plt.bar(np.arange(2 * top_features), coef[top_coefficients], color=colors)\n",
        " feature_names = np.array(feature_names)\n",
        " plt.xticks(np.arange(1 + 2 * top_features), feature_names[top_coefficients], rotation=45, ha='right')\n",
        " plt.show()\n",
        "\n",
        "print(fires_train16.columns.values)\n",
        "\n",
        "trainedsvm = svm.LinearSVC().fit(fires16, target)\n",
        "feature_plot(trainedsvm, fires_train16.columns.values)"
      ],
      "metadata": {
        "colab": {
          "base_uri": "https://localhost:8080/",
          "height": 566
        },
        "id": "1somGHUA9xhH",
        "outputId": "a1c93d49-e50d-4b1e-8ba5-2bf6b4bf3383"
      },
      "execution_count": 31,
      "outputs": [
        {
          "output_type": "stream",
          "name": "stdout",
          "text": [
            "['Temperature' 'Ws' 'RH' 'Rain' 'FFMC' 'DMC' 'ISI' 'Temperature Ws'\n",
            " 'Temperature RH' 'Ws RH' 'Ws FFMC' 'RH FFMC' 'Rain DMC' 'Rain DC'\n",
            " 'Rain ISI' 'Rain BUI']\n"
          ]
        },
        {
          "output_type": "stream",
          "name": "stderr",
          "text": [
            "/usr/local/lib/python3.7/dist-packages/sklearn/utils/validation.py:993: DataConversionWarning: A column-vector y was passed when a 1d array was expected. Please change the shape of y to (n_samples, ), for example using ravel().\n",
            "  y = column_or_1d(y, warn=True)\n"
          ]
        },
        {
          "output_type": "display_data",
          "data": {
            "text/plain": [
              "<Figure size 1296x504 with 1 Axes>"
            ],
            "image/png": "[encoded data removed]"
          },
          "metadata": {
            "needs_background": "light"
          }
        }
      ]
    },
    {
      "cell_type": "code",
      "source": [
        "from sklearn.metrics import accuracy_score\n",
        "q = accuracy_score(targettst,pred_test_rbf)\n",
        "r = accuracy_score(targettst,pred_test_linear)\n",
        "print( \"Test RBF Accuracy=\", q, \"Test Linear Accuracy=\", r)"
      ],
      "metadata": {
        "colab": {
          "base_uri": "https://localhost:8080/"
        },
        "id": "6HISRa9Wj_lk",
        "outputId": "cdf07012-1422-468c-e0c3-ea38bc3ed776"
      },
      "execution_count": 32,
      "outputs": [
        {
          "output_type": "stream",
          "name": "stdout",
          "text": [
            "Test RBF Accuracy= 0.7833333333333333 Test Linear Accuracy= 0.8166666666666667\n"
          ]
        }
      ]
    },
    {
      "cell_type": "code",
      "source": [
        "F1_score, Accuracy = metrics(targettst,pred_test_linear, \"SVM_Linear\")\n",
        "print(\"Test F1_score=\", F1_score, \"Test Accuracy=\", Accuracy)"
      ],
      "metadata": {
        "colab": {
          "base_uri": "https://localhost:8080/",
          "height": 313
        },
        "id": "LnRfdMCuoCZN",
        "outputId": "612d0c36-4ce0-4caf-edc1-a49784640ebe"
      },
      "execution_count": 33,
      "outputs": [
        {
          "output_type": "stream",
          "name": "stdout",
          "text": [
            "Test F1_score= 0.8070175438596492 Test Accuracy= 0.8166666666666667\n"
          ]
        },
        {
          "output_type": "display_data",
          "data": {
            "text/plain": [
              "<Figure size 432x288 with 2 Axes>"
            ],
            "image/png": "[encoded data removed]"
          },
          "metadata": {
            "needs_background": "light"
          }
        }
      ]
    },
    {
      "cell_type": "code",
      "source": [
        "F1_score, Accuracy = metrics(targettst,pred_test_rbf, \"SVM_RBF\")\n",
        "print(\"Test RBF F1_score=\", F1_score, \"Test RBF Accuracy=\", Accuracy)"
      ],
      "metadata": {
        "colab": {
          "base_uri": "https://localhost:8080/",
          "height": 313
        },
        "id": "5Nzqiq8rp5Pt",
        "outputId": "265f67cb-84b4-4fdd-978a-59ed8950d799"
      },
      "execution_count": 25,
      "outputs": [
        {
          "output_type": "stream",
          "name": "stdout",
          "text": [
            "Test RBF F1_score= 0.7547169811320754 Test RBF Accuracy= 0.7833333333333333\n"
          ]
        },
        {
          "output_type": "display_data",
          "data": {
            "text/plain": [
              "<Figure size 432x288 with 2 Axes>"
            ],
            "image/png": "[encoded data removed]"
          },
          "metadata": {
            "needs_background": "light"
          }
        }
      ]
    }
  ]
}