{
  "nbformat": 4,
  "nbformat_minor": 0,
  "metadata": {
    "colab": {
      "name": "Logistic Regression.ipynb",
      "provenance": [],
      "collapsed_sections": []
    },
    "kernelspec": {
      "name": "python3",
      "display_name": "Python 3"
    },
    "language_info": {
      "name": "python"
    }
  },
  "cells": [
    {
      "cell_type": "code",
      "source": [
        "!unzip /content/EE559_Project-main_Final.zip"
      ],
      "metadata": {
        "id": "PxjyMdkEKG1c"
      },
      "execution_count": null,
      "outputs": []
    },
    {
      "cell_type": "code",
      "source": [
        "import pandas as pd\n",
        "import numpy as np\n",
        "import seaborn as sns\n",
        "\n",
        "from sklearn.preprocessing import MinMaxScaler\n",
        "import warnings\n",
        "warnings.filterwarnings('ignore')"
      ],
      "metadata": {
        "id": "SLnLo2mgKHHp"
      },
      "execution_count": 2,
      "outputs": []
    },
    {
      "cell_type": "code",
      "source": [
        "fires_train = pd.read_csv(\"/content/EE559_Project-main/datasets/algerian_fires_train.csv\")\n",
        "fires_test = pd.read_csv(\"/content/EE559_Project-main/datasets/algerian_fires_test.csv\")\n",
        "\n",
        "fires_trainx = fires_train.iloc[:,1:-1]\n",
        "fires_trainy = fires_train.iloc[:,-1]\n",
        "fires_testx = fires_test.iloc[:,1:-1]\n",
        "fires_testy = fires_test.iloc[:,-1]\n",
        "\n",
        "scalar = MinMaxScaler()\n",
        "\n",
        "fires = scalar.fit_transform(fires_trainx)\n",
        "firestst = scalar.fit_transform(fires_testx)"
      ],
      "metadata": {
        "id": "hFxRpmZN9ezY"
      },
      "execution_count": 3,
      "outputs": []
    },
    {
      "cell_type": "code",
      "source": [
        "fires_train16 = pd.read_csv(\"/content/EE559_Project-main/datasets/firesfeatures.csv\")\n",
        "fires_test16 = pd.read_csv(\"/content/EE559_Project-main/datasets/fireststfeatures.csv\")\n",
        "\n",
        "\n",
        "scalar = MinMaxScaler()\n",
        "\n",
        "fires16 = scalar.fit_transform(fires_train16)\n",
        "firestst16 = scalar.fit_transform(fires_test16)"
      ],
      "metadata": {
        "id": "_E3UdT5NrqRw"
      },
      "execution_count": 4,
      "outputs": []
    },
    {
      "cell_type": "code",
      "source": [
        "def metrics(true_labels, pred_labels, plot_title, work='test'):\n",
        "    cf_matrix = confusion_matrix(true_labels, pred_labels)\n",
        "    TP, TN, FP, FN = cf_matrix[1][1], cf_matrix[0][0], cf_matrix[0][1], cf_matrix[1][0]\n",
        "    Recall = TP/(TP+FN)\n",
        "    Precision = TP/(TP+FP)\n",
        "    F1_score = 2*Recall*Precision/(Recall+Precision)\n",
        "    Accuracy = (TP+TN)/true_labels.shape[0]\n",
        "    \n",
        "    if work == 'test':\n",
        "        ax = sns.heatmap(cf_matrix, annot=True, cmap='Blues')\n",
        "\n",
        "        ax.set_title(plot_title)\n",
        "        ax.set_xlabel('Predicted Values')\n",
        "        ax.set_ylabel('Actual Values ')\n",
        "\n",
        "        ax.xaxis.set_ticklabels(['0','1'])\n",
        "        ax.yaxis.set_ticklabels(['0','1'])\n",
        "\n",
        "        plt.savefig('/content/EE559_Project-main/cf_matrix_plots/'+plot_title+'.png')\n",
        "\n",
        "        return F1_score, Accuracy\n",
        "\n",
        "    else:\n",
        "        return F1_score, Accuracy, TP, TN, FP, FN"
      ],
      "metadata": {
        "id": "meS4gtUbM8ZK"
      },
      "execution_count": 5,
      "outputs": []
    },
    {
      "cell_type": "code",
      "source": [
        "import statsmodels.api as sm\n",
        "import pandas as pd\n",
        "\n",
        "X = sm.add_constant(fires_train16)\n",
        "log_reg = sm.Logit(fires_trainy, X)\n",
        "log1 = log_reg.fit(method = \"cg\")\n",
        "print(log1.summary())"
      ],
      "metadata": {
        "colab": {
          "base_uri": "https://localhost:8080/"
        },
        "id": "l6zEdKb_Hkaf",
        "outputId": "bea0efdc-b2c3-43ef-a4da-919316f0f4bb"
      },
      "execution_count": 6,
      "outputs": [
        {
          "output_type": "stream",
          "name": "stdout",
          "text": [
            "Warning: Maximum number of iterations has been exceeded.\n",
            "         Current function value: 0.522882\n",
            "         Iterations: 35\n",
            "         Function evaluations: 87\n",
            "         Gradient evaluations: 79\n",
            "                           Logit Regression Results                           \n",
            "==============================================================================\n",
            "Dep. Variable:                Classes   No. Observations:                  184\n",
            "Model:                          Logit   Df Residuals:                      167\n",
            "Method:                           MLE   Df Model:                           16\n",
            "Date:                Wed, 04 May 2022   Pseudo R-squ.:                  0.2096\n",
            "Time:                        01:30:01   Log-Likelihood:                -96.210\n",
            "converged:                      False   LL-Null:                       -121.73\n",
            "Covariance Type:            nonrobust   LLR p-value:                 1.566e-05\n",
            "==================================================================================\n",
            "                     coef    std err          z      P>|z|      [0.025      0.975]\n",
            "----------------------------------------------------------------------------------\n",
            "const           -1.99e-05      3.456  -5.76e-06      1.000      -6.774       6.774\n",
            "Temperature     3.163e-07      0.082   3.85e-06      1.000      -0.161       0.161\n",
            "Ws                -0.0002      0.201     -0.001      0.999      -0.393       0.393\n",
            "RH                -0.0011      0.048     -0.023      0.981      -0.095       0.093\n",
            "Rain              -0.0002      0.216     -0.001      0.999      -0.424       0.424\n",
            "FFMC              -0.0002      0.035     -0.006      0.995      -0.070       0.069\n",
            "DMC                0.0023      0.019      0.123      0.902      -0.035       0.039\n",
            "ISI                0.0010      0.061      0.017      0.987      -0.119       0.121\n",
            "Temperature Ws     0.0028      0.004      0.669      0.504      -0.005       0.011\n",
            "Temperature RH    -0.0005      0.001     -0.447      0.655      -0.003       0.002\n",
            "Ws RH             -0.0023      0.002     -1.339      0.180      -0.006       0.001\n",
            "Ws FFMC            0.0009      0.002      0.521      0.602      -0.002       0.004\n",
            "RH FFMC            0.0003      0.000      0.711      0.477      -0.001       0.001\n",
            "Rain DMC          -0.0012      0.025     -0.046      0.964      -0.051       0.049\n",
            "Rain DC           -0.0018      0.007     -0.235      0.814      -0.016       0.013\n",
            "Rain ISI          -0.0002      0.091     -0.002      0.998      -0.179       0.179\n",
            "Rain BUI          -0.0010      0.024     -0.040      0.968      -0.048       0.046\n",
            "==================================================================================\n"
          ]
        },
        {
          "output_type": "stream",
          "name": "stderr",
          "text": [
            "/usr/local/lib/python3.7/dist-packages/statsmodels/base/model.py:512: ConvergenceWarning: Maximum Likelihood optimization failed to converge. Check mle_retvals\n",
            "  \"Check mle_retvals\", ConvergenceWarning)\n"
          ]
        }
      ]
    },
    {
      "cell_type": "code",
      "source": [
        "#Taking all features\n",
        "\n",
        "from sklearn.linear_model import LogisticRegression\n",
        "import statsmodels.api as sm\n",
        "from sklearn.metrics import confusion_matrix,roc_curve, auc,roc_auc_score\n",
        "import matplotlib.pyplot as plt\n",
        "import seaborn as sns\n",
        "\n",
        "logreg = LogisticRegression()\n",
        "logreg.fit(fires_train16, fires_trainy)\n",
        "Y_pred = logreg.predict(fires_train16)\n",
        "val=logreg.score(fires_train16,fires_trainy)\n",
        "print(\"Accuracy for train:\",val)\n",
        "print(\"--------------------------\")\n",
        "conf_matrix = confusion_matrix(fires_trainy, Y_pred)\n",
        "sns.heatmap(conf_matrix, annot=True, square=True, cmap='Blues', fmt=\"d\", cbar=True)\n",
        "print(conf_matrix)\n",
        "plt.ylabel('Actual label');\n",
        "plt.xlabel('Predicted label');"
      ],
      "metadata": {
        "colab": {
          "base_uri": "https://localhost:8080/",
          "height": 352
        },
        "id": "TvvsnstcRvPe",
        "outputId": "6574ff95-a741-41ac-9802-c43a0f275c0a"
      },
      "execution_count": 7,
      "outputs": [
        {
          "output_type": "stream",
          "name": "stdout",
          "text": [
            "Accuracy for train: 0.8967391304347826\n",
            "--------------------------\n",
            "[[ 58  11]\n",
            " [  8 107]]\n"
          ]
        },
        {
          "output_type": "display_data",
          "data": {
            "text/plain": [
              "<Figure size 432x288 with 2 Axes>"
            ],
            "image/png": "[encoded data removed]"
          },
          "metadata": {
            "needs_background": "light"
          }
        }
      ]
    },
    {
      "cell_type": "code",
      "source": [
        "F1_score, Accuracy = metrics(fires_trainy,Y_pred, \"Logistic_reg_train\")\n",
        "print(\"Train Logistic regression F1_score=\", F1_score, \"Train Logistic regression Accuracy=\", Accuracy)"
      ],
      "metadata": {
        "colab": {
          "base_uri": "https://localhost:8080/",
          "height": 313
        },
        "id": "X26AvnFROeGy",
        "outputId": "7b93909e-7906-42b0-af91-d08fcdb68aa7"
      },
      "execution_count": 8,
      "outputs": [
        {
          "output_type": "stream",
          "name": "stdout",
          "text": [
            "Train Logistic regression F1_score= 0.9184549356223176 Train Logistic regression Accuracy= 0.8967391304347826\n"
          ]
        },
        {
          "output_type": "display_data",
          "data": {
            "text/plain": [
              "<Figure size 432x288 with 2 Axes>"
            ],
            "image/png": "[encoded data removed]"
          },
          "metadata": {
            "needs_background": "light"
          }
        }
      ]
    },
    {
      "cell_type": "code",
      "source": [
        "#Taking all features\n",
        "Y_predtst = logreg.predict(fires_test16)\n",
        "val=logreg.score(fires_test16,fires_testy)\n",
        "print(\"Accuracy for test:\",val)\n",
        "print(\"--------------------------\")\n",
        "conf_matrix = confusion_matrix(fires_testy, Y_predtst)\n",
        "sns.heatmap(conf_matrix, annot=True, square=True, cmap='Blues', fmt=\"d\", cbar=True)\n",
        "print(conf_matrix)\n",
        "plt.ylabel('Actual Test label');\n",
        "plt.xlabel('Predicted Test label');"
      ],
      "metadata": {
        "colab": {
          "base_uri": "https://localhost:8080/",
          "height": 352
        },
        "id": "Y5AgZmpxSkVP",
        "outputId": "42e8f52b-76d0-42b3-b6b1-15f3e6dbf7cd"
      },
      "execution_count": 9,
      "outputs": [
        {
          "output_type": "stream",
          "name": "stdout",
          "text": [
            "Accuracy for test: 0.85\n",
            "--------------------------\n",
            "[[34  3]\n",
            " [ 6 17]]\n"
          ]
        },
        {
          "output_type": "display_data",
          "data": {
            "text/plain": [
              "<Figure size 432x288 with 2 Axes>"
            ],
            "image/png": "[encoded data removed]"
          },
          "metadata": {
            "needs_background": "light"
          }
        }
      ]
    },
    {
      "cell_type": "code",
      "source": [
        "F1_score, Accuracy = metrics(fires_testy,Y_predtst, \"Logistic_reg_test\")\n",
        "print(\"Test Logistic regression F1_score=\", F1_score, \"Test Logistic regression Accuracy=\", Accuracy)"
      ],
      "metadata": {
        "colab": {
          "base_uri": "https://localhost:8080/",
          "height": 313
        },
        "id": "5kFQHLfPPM1C",
        "outputId": "11f4862e-8153-4723-b41e-7d659ad75cc3"
      },
      "execution_count": 10,
      "outputs": [
        {
          "output_type": "stream",
          "name": "stdout",
          "text": [
            "Test Logistic regression F1_score= 0.7906976744186046 Test Logistic regression Accuracy= 0.85\n"
          ]
        },
        {
          "output_type": "display_data",
          "data": {
            "text/plain": [
              "<Figure size 432x288 with 2 Axes>"
            ],
            "image/png": "[encoded data removed]"
          },
          "metadata": {
            "needs_background": "light"
          }
        }
      ]
    },
    {
      "cell_type": "markdown",
      "source": [
        "\n",
        ">If our p value is less than 0.05 then we reject the null hypothesis \n",
        "And if you see we are getting a p value of 0.00, that means the 'ISI' is the best feature for the calculation so we will drop the others and predict logistic regression on just ISI Feature and See what it results."
      ],
      "metadata": {
        "id": "tBKFHj73QNsH"
      }
    }
  ]
}