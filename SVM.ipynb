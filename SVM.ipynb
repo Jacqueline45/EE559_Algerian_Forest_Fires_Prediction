{
  "nbformat": 4,
  "nbformat_minor": 0,
  "metadata": {
    "colab": {
      "name": "SVM.ipynb",
      "provenance": [],
      "collapsed_sections": [],
      "authorship_tag": "ABX9TyPGUNo4CO1x9thbIIc6y+Bv",
      "include_colab_link": true
    },
    "kernelspec": {
      "name": "python3",
      "display_name": "Python 3"
    },
    "language_info": {
      "name": "python"
    },
    "accelerator": "GPU"
  },
  "cells": [
    {
      "cell_type": "markdown",
      "metadata": {
        "id": "view-in-github",
        "colab_type": "text"
      },
      "source": [
        "<a href=\"https://colab.research.google.com/github/Jacqueline45/EE559_Project/blob/main/SVM.ipynb\" target=\"_parent\"><img src=\"https://colab.research.google.com/assets/colab-badge.svg\" alt=\"Open In Colab\"/></a>"
      ]
    },
    {
      "cell_type": "code",
      "source": [
        "!unzip /content/EE559_Project-main.zip\n"
      ],
      "metadata": {
        "colab": {
          "base_uri": "https://localhost:8080/"
        },
        "id": "0yp0e1yzfeUt",
        "outputId": "2274e865-6d06-41f3-88a8-6de025e6a780"
      },
      "execution_count": 1,
      "outputs": [
        {
          "output_type": "stream",
          "name": "stdout",
          "text": [
            "Archive:  /content/EE559_Project-main.zip\n",
            "cd4e0a51e0b87e7bb5bd032f2efedcc9a0da1845\n",
            "   creating: EE559_Project-main/\n",
            "  inflating: EE559_Project-main/.DS_Store  \n",
            " extracting: EE559_Project-main/.gitignore  \n",
            "  inflating: EE559_Project-main/Feature_Selection.py  \n",
            "  inflating: EE559_Project-main/MSE.py  \n",
            "  inflating: EE559_Project-main/README.md  \n",
            "  inflating: EE559_Project-main/baseline.py  \n",
            "   creating: EE559_Project-main/cf_matrix_plots/\n",
            "  inflating: EE559_Project-main/cf_matrix_plots/MSE.png  \n",
            "  inflating: EE559_Project-main/cf_matrix_plots/MSE_val.png  \n",
            "  inflating: EE559_Project-main/cf_matrix_plots/baseline_system.png  \n",
            "  inflating: EE559_Project-main/cf_matrix_plots/baseline_system_val.png  \n",
            "  inflating: EE559_Project-main/cf_matrix_plots/kNN_SMOTE_k=5.png  \n",
            "  inflating: EE559_Project-main/cf_matrix_plots/kNN_SMOTE_k=7.png  \n",
            "  inflating: EE559_Project-main/cf_matrix_plots/kNN_add_1_feat_k=5.png  \n",
            "  inflating: EE559_Project-main/cf_matrix_plots/kNN_add_1_feat_k=7.png  \n",
            "  inflating: EE559_Project-main/cf_matrix_plots/kNN_feat_reduct_k=5.png  \n",
            "  inflating: EE559_Project-main/cf_matrix_plots/kNN_feat_reduct_k=7.png  \n",
            "  inflating: EE559_Project-main/cf_matrix_plots/kNN_k=2.png  \n",
            "  inflating: EE559_Project-main/cf_matrix_plots/kNN_k=3.png  \n",
            "  inflating: EE559_Project-main/cf_matrix_plots/kNN_k=4.png  \n",
            "  inflating: EE559_Project-main/cf_matrix_plots/kNN_k=5.png  \n",
            "  inflating: EE559_Project-main/cf_matrix_plots/kNN_k=6.png  \n",
            "  inflating: EE559_Project-main/cf_matrix_plots/kNN_k=7.png  \n",
            "  inflating: EE559_Project-main/cf_matrix_plots/kNN_k=8.png  \n",
            "  inflating: EE559_Project-main/cf_matrix_plots/p_MSE_SMOTE.png  \n",
            "  inflating: EE559_Project-main/cf_matrix_plots/p_add_1_feat.png  \n",
            "  inflating: EE559_Project-main/cf_matrix_plots/p_add_1_feat_margin.png  \n",
            "  inflating: EE559_Project-main/cf_matrix_plots/p_feat_reduct.png  \n",
            "  inflating: EE559_Project-main/cf_matrix_plots/p_feat_reduct_val.png  \n",
            "  inflating: EE559_Project-main/cf_matrix_plots/p_norm.png  \n",
            "  inflating: EE559_Project-main/cf_matrix_plots/p_std.png  \n",
            "  inflating: EE559_Project-main/cf_matrix_plots/p_std_SMOTE.png  \n",
            "  inflating: EE559_Project-main/cf_matrix_plots/p_std_SMOTE_val.png  \n",
            "  inflating: EE559_Project-main/cf_matrix_plots/perceptron.png  \n",
            "  inflating: EE559_Project-main/cf_matrix_plots/trivial_system.png  \n",
            "  inflating: EE559_Project-main/cf_matrix_plots/trivial_system_val.png  \n",
            "  inflating: EE559_Project-main/data_analysis.py  \n",
            "   creating: EE559_Project-main/datasets/\n",
            "  inflating: EE559_Project-main/datasets/algerian_fires_test.csv  \n",
            "  inflating: EE559_Project-main/datasets/algerian_fires_train.csv  \n",
            "   creating: EE559_Project-main/feat_KDE/\n",
            "  inflating: EE559_Project-main/feat_KDE/BUI.png  \n",
            "  inflating: EE559_Project-main/feat_KDE/DC.png  \n",
            "  inflating: EE559_Project-main/feat_KDE/DMC.png  \n",
            "  inflating: EE559_Project-main/feat_KDE/FFMC.png  \n",
            "  inflating: EE559_Project-main/feat_KDE/ISI.png  \n",
            "  inflating: EE559_Project-main/feat_KDE/RH.png  \n",
            "  inflating: EE559_Project-main/feat_KDE/Rain.png  \n",
            "  inflating: EE559_Project-main/feat_KDE/Temperature.png  \n",
            "  inflating: EE559_Project-main/feat_KDE/Ws.png  \n",
            "   creating: EE559_Project-main/feat_KDE_test/\n",
            "  inflating: EE559_Project-main/feat_KDE_test/BUI.png  \n",
            "  inflating: EE559_Project-main/feat_KDE_test/DC.png  \n",
            "  inflating: EE559_Project-main/feat_KDE_test/DMC.png  \n",
            "  inflating: EE559_Project-main/feat_KDE_test/FFMC.png  \n",
            "  inflating: EE559_Project-main/feat_KDE_test/ISI.png  \n",
            "  inflating: EE559_Project-main/feat_KDE_test/RH.png  \n",
            "  inflating: EE559_Project-main/feat_KDE_test/Rain.png  \n",
            "  inflating: EE559_Project-main/feat_KDE_test/Temperature.png  \n",
            "  inflating: EE559_Project-main/feat_KDE_test/Ws.png  \n",
            "  inflating: EE559_Project-main/kNN.py  \n",
            "  inflating: EE559_Project-main/perceptron.py  \n",
            "  inflating: EE559_Project-main/trivial.py  \n",
            "   creating: EE559_Project-main/utils/\n",
            "  inflating: EE559_Project-main/utils/Add_feat.py  \n",
            "  inflating: EE559_Project-main/utils/metrics.py  \n",
            "  inflating: EE559_Project-main/utils/read_data.py  \n"
          ]
        }
      ]
    },
    {
      "cell_type": "code",
      "source": [
        "import pandas as pd \n",
        "import imblearn\n",
        "import numpy as np \n",
        "\n",
        "from sklearn.preprocessing import StandardScaler\n",
        "from sklearn.neighbors import KNeighborsClassifier\n",
        "from imblearn.over_sampling import SMOTE\n",
        "\n",
        "from sklearn.svm import SVC\n",
        "from sklearn.model_selection import train_test_split"
      ],
      "metadata": {
        "id": "fmtBdtZKlp0z"
      },
      "execution_count": 2,
      "outputs": []
    },
    {
      "cell_type": "code",
      "source": [
        "from sklearn.metrics import confusion_matrix\n",
        "import seaborn as sns\n",
        "import matplotlib.pyplot as plt\n",
        "\n",
        "# Generates all performance measures\n",
        "\n",
        "import pandas as pd\n",
        "\n",
        "from statistics import mean\n",
        "import pandas as pd\n",
        "\n",
        "def Add_feat(X_tr, X_test):\n",
        "    mean_ISI_tr = [0,0,0,0]\n",
        "    mean_ISI_test = [0,0,0,0]\n",
        "    for i in range(4, X_tr.shape[0]-4):\n",
        "        mean_ISI_tr.append(mean(X_tr['ISI'][i-4:i]))\n",
        "\n",
        "    for i in range(4, X_test.shape[0]):\n",
        "        mean_ISI_test.append(mean(X_test['ISI'][i-4:i]))\n",
        "\n",
        "    mean_ISI_tr.extend([0,0,0,0])\n",
        "\n",
        "    X_test = X_test.reset_index(drop=True)\n",
        "    mean_ISI_test[0] = sum(X_tr['ISI'].iloc[-4:])/4\n",
        "    mean_ISI_test[1] = (sum(X_tr['ISI'].iloc[-3:])+X_test['ISI'].iloc[0])/4\n",
        "    mean_ISI_test[2] = (sum(X_tr['ISI'].iloc[-2:])+sum(X_test['ISI'].iloc[:2]))/4\n",
        "    mean_ISI_test[3] = (X_tr['ISI'].iloc[X_tr.shape[0]-1]+sum(X_test['ISI'].iloc[:3]))/4\n",
        "    \n",
        "    X_tr = X_tr.assign(mean_ISI = mean_ISI_tr)\n",
        "    X_test = X_test.assign(mean_ISI = mean_ISI_test)\n",
        "    \n",
        "    X_tr = X_tr.drop(X_tr.index[:4])\n",
        "    X_tr = X_tr.drop(X_tr.index[-4:])\n",
        "\n",
        "    X_tr = X_tr.reset_index(drop=True)\n",
        "\n",
        "    return X_tr, X_test\n",
        "\n",
        "def read_data(file):\n",
        "    \"\"\"Reads a CSV file and returns a data matrix and the labels separatelly\"\"\"\n",
        "    data = pd.read_csv(file)\n",
        "    return data.iloc[:, :-1], data.iloc[:,-1]\n",
        "\n",
        "def metrics(true_labels, pred_labels, plot_title, work='test'):\n",
        "    cf_matrix = confusion_matrix(true_labels, pred_labels)\n",
        "    TP, TN, FP, FN = cf_matrix[1][1], cf_matrix[0][0], cf_matrix[0][1], cf_matrix[1][0]\n",
        "    Recall = TP/(TP+FN)\n",
        "    Precision = TP/(TP+FP)\n",
        "    F1_score = 2*Recall*Precision/(Recall+Precision)\n",
        "    Accuracy = (TP+TN)/true_labels.shape[0]\n",
        "    \n",
        "    if work == 'test':\n",
        "        ax = sns.heatmap(cf_matrix, annot=True, cmap='Blues')\n",
        "\n",
        "        ax.set_title(plot_title)\n",
        "        ax.set_xlabel('Predicted Values')\n",
        "        ax.set_ylabel('Actual Values ')\n",
        "\n",
        "        ax.xaxis.set_ticklabels(['0','1'])\n",
        "        ax.yaxis.set_ticklabels(['0','1'])\n",
        "\n",
        "        plt.savefig('/content/EE559_Project-main/cf_matrix_plots/'+plot_title+'.png')\n",
        "\n",
        "        return F1_score, Accuracy\n",
        "\n",
        "    else:\n",
        "        return F1_score, Accuracy, TP, TN, FP, FN\n",
        "\n",
        "def plot_val_cf_matrix(true_labels, pred_labels, plot_title, TP, TN, FP, FN):\n",
        "    cf_matrix = confusion_matrix(true_labels, pred_labels)\n",
        "    cf_matrix[1][1], cf_matrix[0][0], cf_matrix[0][1], cf_matrix[1][0] = TP, TN, FP, FN\n",
        "    \n",
        "    ax = sns.heatmap(cf_matrix, annot=True, cmap='Blues')\n",
        "\n",
        "    ax.set_title(plot_title)\n",
        "    ax.set_xlabel('Predicted Values')\n",
        "    ax.set_ylabel('Actual Values ')\n",
        "\n",
        "    ## Ticket labels - List must be in alphabetical order\n",
        "    ax.xaxis.set_ticklabels(['0','1'])\n",
        "    ax.yaxis.set_ticklabels(['0','1'])\n",
        "\n",
        "    plt.savefig('/content/EE559_Project-main/cf_matrix_plot/'+plot_title+'_val.png')"
      ],
      "metadata": {
        "id": "ePsCx9Own0DN"
      },
      "execution_count": 3,
      "outputs": []
    },
    {
      "cell_type": "code",
      "execution_count": 4,
      "metadata": {
        "id": "rFjH9PL2mnpf",
        "colab": {
          "base_uri": "https://localhost:8080/"
        },
        "outputId": "b5e8000e-d605-41c1-cb99-6536d5436f8d"
      },
      "outputs": [
        {
          "output_type": "stream",
          "name": "stderr",
          "text": [
            "/usr/local/lib/python3.7/dist-packages/sklearn/utils/validation.py:993: DataConversionWarning: A column-vector y was passed when a 1d array was expected. Please change the shape of y to (n_samples, ), for example using ravel().\n",
            "  y = column_or_1d(y, warn=True)\n",
            "/usr/local/lib/python3.7/dist-packages/sklearn/utils/validation.py:993: DataConversionWarning: A column-vector y was passed when a 1d array was expected. Please change the shape of y to (n_samples, ), for example using ravel().\n",
            "  y = column_or_1d(y, warn=True)\n"
          ]
        }
      ],
      "source": [
        "from sklearn.preprocessing import MinMaxScaler\n",
        "from sklearn.model_selection import train_test_split\n",
        "from sklearn.svm import SVC\n",
        "\n",
        "fires_train = pd.read_csv(\"/content/EE559_Project-main/datasets/algerian_fires_train.csv\")\n",
        "fires_test = pd.read_csv(\"/content/EE559_Project-main/datasets/algerian_fires_test.csv\")\n",
        "\n",
        "data = fires_train.describe()\n",
        "tstdata = fires_test.describe()\n",
        "\n",
        "fires_train = fires_train.iloc[:,1:]\n",
        "fires_test = fires_test.iloc[:,1:]\n",
        "\n",
        "##Normalising the data as there is scale difference\n",
        "predictors = fires_train.iloc[:,:-1]\n",
        "target = fires_train.iloc[:,-1:]\n",
        "\n",
        "predictorstst = fires_test.iloc[:,:-1]\n",
        "targettst = fires_test.iloc[:,-1:]\n",
        "\n",
        "scalar = MinMaxScaler()\n",
        "\n",
        "fires = scalar.fit_transform(predictors)\n",
        "firestst = scalar.fit_transform(predictorstst)\n",
        "\n",
        " #test Linear\n",
        "model_linear = SVC(kernel = \"linear\")\n",
        "model_linear.fit(fires,target)\n",
        "pred_test_linear = model_linear.predict(firestst)\n",
        "\n",
        " #test RBF\n",
        "\n",
        "# kernel = rbf\n",
        "model_rbf = SVC(kernel = \"rbf\")\n",
        "model_rbf.fit(fires,target)\n",
        "pred_test_rbf = model_rbf.predict(firestst)"
      ]
    },
    {
      "cell_type": "code",
      "source": [
        "fires_train"
      ],
      "metadata": {
        "colab": {
          "base_uri": "https://localhost:8080/",
          "height": 423
        },
        "id": "PyYu6VJj_qpA",
        "outputId": "0f375c2e-3797-4112-f64e-b40a774b9480"
      },
      "execution_count": 5,
      "outputs": [
        {
          "output_type": "execute_result",
          "data": {
            "text/plain": [
              "     Temperature          RH         Ws       Rain       FFMC        DMC  \\\n",
              "0      18.952399   43.855865  12.292536  -0.340306  73.063752  -2.371083   \n",
              "1      34.498610   46.230441  14.838211   0.939652  56.027977   0.441002   \n",
              "2      15.258665   57.084279  10.968696   1.397913  33.114404   3.389994   \n",
              "3      24.847936   99.910000  17.924025   3.958666  26.148986   5.179630   \n",
              "4      19.381227  104.398680  23.740540  13.394723  28.658020  -2.247164   \n",
              "..           ...         ...        ...        ...        ...        ...   \n",
              "179    28.449213   57.127011  15.195444  -0.161958  71.450733  57.128627   \n",
              "180    26.680911   73.619431  17.054505   0.127765  61.231373  18.986399   \n",
              "181    44.750966   58.428753  21.687939   0.995222  62.921683  27.594857   \n",
              "182    33.298270   79.558329  20.464269  17.019373  47.242905   6.039570   \n",
              "183    32.762295   84.322685  21.653932  -0.213253  67.294270  33.599199   \n",
              "\n",
              "             DC        ISI        BUI  Classes  \n",
              "0     28.543573   0.487246   6.225461        0  \n",
              "1    -10.007636  -1.472158   2.268104        0  \n",
              "2    -13.774588   1.338737  -3.327908        0  \n",
              "3     -1.392789  -0.755090   0.131303        0  \n",
              "4     -3.432689   0.558249  -1.928471        0  \n",
              "..          ...        ...        ...      ...  \n",
              "179  239.290670  11.267031  68.680725        1  \n",
              "180  170.968390   9.496533  39.281865        1  \n",
              "181  176.118476  -0.271474  30.340267        0  \n",
              "182  -11.298033   0.035798   4.744741        0  \n",
              "183  165.945211  10.440299  35.986552        1  \n",
              "\n",
              "[184 rows x 10 columns]"
            ],
            "text/html": [
              "\n",
              "  <div id=\"df-f95e5dab-f6d9-4e5a-8c2c-dab738709901\">\n",
              "    <div class=\"colab-df-container\">\n",
              "      <div>\n",
              "<style scoped>\n",
              "    .dataframe tbody tr th:only-of-type {\n",
              "        vertical-align: middle;\n",
              "    }\n",
              "\n",
              "    .dataframe tbody tr th {\n",
              "        vertical-align: top;\n",
              "    }\n",
              "\n",
              "    .dataframe thead th {\n",
              "        text-align: right;\n",
              "    }\n",
              "</style>\n",
              "<table border=\"1\" class=\"dataframe\">\n",
              "  <thead>\n",
              "    <tr style=\"text-align: right;\">\n",
              "      <th></th>\n",
              "      <th>Temperature</th>\n",
              "      <th>RH</th>\n",
              "      <th>Ws</th>\n",
              "      <th>Rain</th>\n",
              "      <th>FFMC</th>\n",
              "      <th>DMC</th>\n",
              "      <th>DC</th>\n",
              "      <th>ISI</th>\n",
              "      <th>BUI</th>\n",
              "      <th>Classes</th>\n",
              "    </tr>\n",
              "  </thead>\n",
              "  <tbody>\n",
              "    <tr>\n",
              "      <th>0</th>\n",
              "      <td>18.952399</td>\n",
              "      <td>43.855865</td>\n",
              "      <td>12.292536</td>\n",
              "      <td>-0.340306</td>\n",
              "      <td>73.063752</td>\n",
              "      <td>-2.371083</td>\n",
              "      <td>28.543573</td>\n",
              "      <td>0.487246</td>\n",
              "      <td>6.225461</td>\n",
              "      <td>0</td>\n",
              "    </tr>\n",
              "    <tr>\n",
              "      <th>1</th>\n",
              "      <td>34.498610</td>\n",
              "      <td>46.230441</td>\n",
              "      <td>14.838211</td>\n",
              "      <td>0.939652</td>\n",
              "      <td>56.027977</td>\n",
              "      <td>0.441002</td>\n",
              "      <td>-10.007636</td>\n",
              "      <td>-1.472158</td>\n",
              "      <td>2.268104</td>\n",
              "      <td>0</td>\n",
              "    </tr>\n",
              "    <tr>\n",
              "      <th>2</th>\n",
              "      <td>15.258665</td>\n",
              "      <td>57.084279</td>\n",
              "      <td>10.968696</td>\n",
              "      <td>1.397913</td>\n",
              "      <td>33.114404</td>\n",
              "      <td>3.389994</td>\n",
              "      <td>-13.774588</td>\n",
              "      <td>1.338737</td>\n",
              "      <td>-3.327908</td>\n",
              "      <td>0</td>\n",
              "    </tr>\n",
              "    <tr>\n",
              "      <th>3</th>\n",
              "      <td>24.847936</td>\n",
              "      <td>99.910000</td>\n",
              "      <td>17.924025</td>\n",
              "      <td>3.958666</td>\n",
              "      <td>26.148986</td>\n",
              "      <td>5.179630</td>\n",
              "      <td>-1.392789</td>\n",
              "      <td>-0.755090</td>\n",
              "      <td>0.131303</td>\n",
              "      <td>0</td>\n",
              "    </tr>\n",
              "    <tr>\n",
              "      <th>4</th>\n",
              "      <td>19.381227</td>\n",
              "      <td>104.398680</td>\n",
              "      <td>23.740540</td>\n",
              "      <td>13.394723</td>\n",
              "      <td>28.658020</td>\n",
              "      <td>-2.247164</td>\n",
              "      <td>-3.432689</td>\n",
              "      <td>0.558249</td>\n",
              "      <td>-1.928471</td>\n",
              "      <td>0</td>\n",
              "    </tr>\n",
              "    <tr>\n",
              "      <th>...</th>\n",
              "      <td>...</td>\n",
              "      <td>...</td>\n",
              "      <td>...</td>\n",
              "      <td>...</td>\n",
              "      <td>...</td>\n",
              "      <td>...</td>\n",
              "      <td>...</td>\n",
              "      <td>...</td>\n",
              "      <td>...</td>\n",
              "      <td>...</td>\n",
              "    </tr>\n",
              "    <tr>\n",
              "      <th>179</th>\n",
              "      <td>28.449213</td>\n",
              "      <td>57.127011</td>\n",
              "      <td>15.195444</td>\n",
              "      <td>-0.161958</td>\n",
              "      <td>71.450733</td>\n",
              "      <td>57.128627</td>\n",
              "      <td>239.290670</td>\n",
              "      <td>11.267031</td>\n",
              "      <td>68.680725</td>\n",
              "      <td>1</td>\n",
              "    </tr>\n",
              "    <tr>\n",
              "      <th>180</th>\n",
              "      <td>26.680911</td>\n",
              "      <td>73.619431</td>\n",
              "      <td>17.054505</td>\n",
              "      <td>0.127765</td>\n",
              "      <td>61.231373</td>\n",
              "      <td>18.986399</td>\n",
              "      <td>170.968390</td>\n",
              "      <td>9.496533</td>\n",
              "      <td>39.281865</td>\n",
              "      <td>1</td>\n",
              "    </tr>\n",
              "    <tr>\n",
              "      <th>181</th>\n",
              "      <td>44.750966</td>\n",
              "      <td>58.428753</td>\n",
              "      <td>21.687939</td>\n",
              "      <td>0.995222</td>\n",
              "      <td>62.921683</td>\n",
              "      <td>27.594857</td>\n",
              "      <td>176.118476</td>\n",
              "      <td>-0.271474</td>\n",
              "      <td>30.340267</td>\n",
              "      <td>0</td>\n",
              "    </tr>\n",
              "    <tr>\n",
              "      <th>182</th>\n",
              "      <td>33.298270</td>\n",
              "      <td>79.558329</td>\n",
              "      <td>20.464269</td>\n",
              "      <td>17.019373</td>\n",
              "      <td>47.242905</td>\n",
              "      <td>6.039570</td>\n",
              "      <td>-11.298033</td>\n",
              "      <td>0.035798</td>\n",
              "      <td>4.744741</td>\n",
              "      <td>0</td>\n",
              "    </tr>\n",
              "    <tr>\n",
              "      <th>183</th>\n",
              "      <td>32.762295</td>\n",
              "      <td>84.322685</td>\n",
              "      <td>21.653932</td>\n",
              "      <td>-0.213253</td>\n",
              "      <td>67.294270</td>\n",
              "      <td>33.599199</td>\n",
              "      <td>165.945211</td>\n",
              "      <td>10.440299</td>\n",
              "      <td>35.986552</td>\n",
              "      <td>1</td>\n",
              "    </tr>\n",
              "  </tbody>\n",
              "</table>\n",
              "<p>184 rows × 10 columns</p>\n",
              "</div>\n",
              "      <button class=\"colab-df-convert\" onclick=\"convertToInteractive('df-f95e5dab-f6d9-4e5a-8c2c-dab738709901')\"\n",
              "              title=\"Convert this dataframe to an interactive table.\"\n",
              "              style=\"display:none;\">\n",
              "        \n",
              "  <svg xmlns=\"http://www.w3.org/2000/svg\" height=\"24px\"viewBox=\"0 0 24 24\"\n",
              "       width=\"24px\">\n",
              "    <path d=\"M0 0h24v24H0V0z\" fill=\"none\"/>\n",
              "    <path d=\"M18.56 5.44l.94 2.06.94-2.06 2.06-.94-2.06-.94-.94-2.06-.94 2.06-2.06.94zm-11 1L8.5 8.5l.94-2.06 2.06-.94-2.06-.94L8.5 2.5l-.94 2.06-2.06.94zm10 10l.94 2.06.94-2.06 2.06-.94-2.06-.94-.94-2.06-.94 2.06-2.06.94z\"/><path d=\"M17.41 7.96l-1.37-1.37c-.4-.4-.92-.59-1.43-.59-.52 0-1.04.2-1.43.59L10.3 9.45l-7.72 7.72c-.78.78-.78 2.05 0 2.83L4 21.41c.39.39.9.59 1.41.59.51 0 1.02-.2 1.41-.59l7.78-7.78 2.81-2.81c.8-.78.8-2.07 0-2.86zM5.41 20L4 18.59l7.72-7.72 1.47 1.35L5.41 20z\"/>\n",
              "  </svg>\n",
              "      </button>\n",
              "      \n",
              "  <style>\n",
              "    .colab-df-container {\n",
              "      display:flex;\n",
              "      flex-wrap:wrap;\n",
              "      gap: 12px;\n",
              "    }\n",
              "\n",
              "    .colab-df-convert {\n",
              "      background-color: #E8F0FE;\n",
              "      border: none;\n",
              "      border-radius: 50%;\n",
              "      cursor: pointer;\n",
              "      display: none;\n",
              "      fill: #1967D2;\n",
              "      height: 32px;\n",
              "      padding: 0 0 0 0;\n",
              "      width: 32px;\n",
              "    }\n",
              "\n",
              "    .colab-df-convert:hover {\n",
              "      background-color: #E2EBFA;\n",
              "      box-shadow: 0px 1px 2px rgba(60, 64, 67, 0.3), 0px 1px 3px 1px rgba(60, 64, 67, 0.15);\n",
              "      fill: #174EA6;\n",
              "    }\n",
              "\n",
              "    [theme=dark] .colab-df-convert {\n",
              "      background-color: #3B4455;\n",
              "      fill: #D2E3FC;\n",
              "    }\n",
              "\n",
              "    [theme=dark] .colab-df-convert:hover {\n",
              "      background-color: #434B5C;\n",
              "      box-shadow: 0px 1px 3px 1px rgba(0, 0, 0, 0.15);\n",
              "      filter: drop-shadow(0px 1px 2px rgba(0, 0, 0, 0.3));\n",
              "      fill: #FFFFFF;\n",
              "    }\n",
              "  </style>\n",
              "\n",
              "      <script>\n",
              "        const buttonEl =\n",
              "          document.querySelector('#df-f95e5dab-f6d9-4e5a-8c2c-dab738709901 button.colab-df-convert');\n",
              "        buttonEl.style.display =\n",
              "          google.colab.kernel.accessAllowed ? 'block' : 'none';\n",
              "\n",
              "        async function convertToInteractive(key) {\n",
              "          const element = document.querySelector('#df-f95e5dab-f6d9-4e5a-8c2c-dab738709901');\n",
              "          const dataTable =\n",
              "            await google.colab.kernel.invokeFunction('convertToInteractive',\n",
              "                                                     [key], {});\n",
              "          if (!dataTable) return;\n",
              "\n",
              "          const docLinkHtml = 'Like what you see? Visit the ' +\n",
              "            '<a target=\"_blank\" href=https://colab.research.google.com/notebooks/data_table.ipynb>data table notebook</a>'\n",
              "            + ' to learn more about interactive tables.';\n",
              "          element.innerHTML = '';\n",
              "          dataTable['output_type'] = 'display_data';\n",
              "          await google.colab.output.renderOutput(dataTable, element);\n",
              "          const docLink = document.createElement('div');\n",
              "          docLink.innerHTML = docLinkHtml;\n",
              "          element.appendChild(docLink);\n",
              "        }\n",
              "      </script>\n",
              "    </div>\n",
              "  </div>\n",
              "  "
            ]
          },
          "metadata": {},
          "execution_count": 5
        }
      ]
    },
    {
      "cell_type": "code",
      "source": [
        "from sklearn import svm\n",
        "import matplotlib.pyplot as plt\n",
        "def feature_plot(classifier, feature_names, top_features=4):\n",
        " coef = classifier.coef_.ravel()\n",
        " top_positive_coefficients = np.argsort(coef)[-top_features:]\n",
        " top_negative_coefficients = np.argsort(coef)[:top_features]\n",
        " top_coefficients = np.hstack([top_negative_coefficients, top_positive_coefficients])\n",
        " plt.figure(figsize=(18, 7))\n",
        " colors = ['green' if c < 0 else 'blue' for c in coef[top_coefficients]]\n",
        " plt.bar(np.arange(2 * top_features), coef[top_coefficients], color=colors)\n",
        " feature_names = np.array(feature_names)\n",
        " plt.xticks(np.arange(1 + 2 * top_features), feature_names[top_coefficients], rotation=45, ha='right')\n",
        " plt.show()\n",
        "\n",
        "print(fires_train.drop(['Classes'], axis = 1).columns.values)\n",
        "\n",
        "trainedsvm = svm.LinearSVC().fit(fires, target)\n",
        "feature_plot(trainedsvm, fires_train.drop(['Classes'], axis = 1).columns.values)"
      ],
      "metadata": {
        "colab": {
          "base_uri": "https://localhost:8080/",
          "height": 544
        },
        "id": "1somGHUA9xhH",
        "outputId": "6a1c9dc2-963a-48d3-ec08-993c95c1e5e1"
      },
      "execution_count": 8,
      "outputs": [
        {
          "output_type": "stream",
          "name": "stdout",
          "text": [
            "['Temperature' 'RH' 'Ws' 'Rain' 'FFMC' 'DMC' 'DC' 'ISI' 'BUI']\n"
          ]
        },
        {
          "output_type": "stream",
          "name": "stderr",
          "text": [
            "/usr/local/lib/python3.7/dist-packages/sklearn/utils/validation.py:993: DataConversionWarning: A column-vector y was passed when a 1d array was expected. Please change the shape of y to (n_samples, ), for example using ravel().\n",
            "  y = column_or_1d(y, warn=True)\n"
          ]
        },
        {
          "output_type": "display_data",
          "data": {
            "text/plain": [
              "<Figure size 1296x504 with 1 Axes>"
            ],
            "image/png": "[encoded data removed]"
          },
          "metadata": {
            "needs_background": "light"
          }
        }
      ]
    },
    {
      "cell_type": "code",
      "source": [
        "from sklearn import svm, datasets\n",
        "from sklearn.model_selection import GridSearchCV\n",
        "C_range = [0.01, 0.1, 1, 10,100]  \n",
        "gamma_range = [0.1, 0.2, 0.3, 0.4, 0.5, 0.6, 0.7, 0.8, 0.9, 1.0]\n",
        "svcModel = SVC(kernel='rbf',max_iter = 1000)\n",
        "parameters = {'C':C_range, 'gamma':gamma_range}\n",
        "clf1 = GridSearchCV(svcModel, parameters, cv=10, n_jobs=-1)\n",
        "clf1.fit(fires, target)\n",
        "\n",
        "c1 = clf1.best_params_['C']\n",
        "gamma1 = clf1.best_params_['gamma']\n",
        "\n",
        "print('c1 value is', c1, 'gamma1 value is', gamma1)"
      ],
      "metadata": {
        "colab": {
          "base_uri": "https://localhost:8080/"
        },
        "id": "1K-fcHrB6eE4",
        "outputId": "cba0e298-6748-4f26-e8d5-9a1936bc99e2"
      },
      "execution_count": 9,
      "outputs": [
        {
          "output_type": "stream",
          "name": "stdout",
          "text": [
            "c1 value is 100 gamma1 value is 0.1\n"
          ]
        },
        {
          "output_type": "stream",
          "name": "stderr",
          "text": [
            "/usr/local/lib/python3.7/dist-packages/sklearn/utils/validation.py:993: DataConversionWarning: A column-vector y was passed when a 1d array was expected. Please change the shape of y to (n_samples, ), for example using ravel().\n",
            "  y = column_or_1d(y, warn=True)\n"
          ]
        }
      ]
    },
    {
      "cell_type": "code",
      "source": [
        "svcModel1 = SVC(C=c1, gamma=gamma1,kernel='rbf')\n",
        "svc_family = svcModel1.fit(fires, target)\n",
        "pred = svc_family.predict(firestst)"
      ],
      "metadata": {
        "colab": {
          "base_uri": "https://localhost:8080/"
        },
        "id": "uFeKtwAd7dfZ",
        "outputId": "503daad8-a8eb-4c00-ce7c-83f5642b52d9"
      },
      "execution_count": 10,
      "outputs": [
        {
          "output_type": "stream",
          "name": "stderr",
          "text": [
            "/usr/local/lib/python3.7/dist-packages/sklearn/utils/validation.py:993: DataConversionWarning: A column-vector y was passed when a 1d array was expected. Please change the shape of y to (n_samples, ), for example using ravel().\n",
            "  y = column_or_1d(y, warn=True)\n"
          ]
        }
      ]
    },
    {
      "cell_type": "code",
      "source": [
        "from sklearn.metrics import accuracy_score\n",
        "q = accuracy_score(targettst,pred)\n",
        "q"
      ],
      "metadata": {
        "colab": {
          "base_uri": "https://localhost:8080/"
        },
        "id": "9DHEQp738qCg",
        "outputId": "7dc3cf6e-83ee-4a10-f91a-c25594e90f6c"
      },
      "execution_count": 11,
      "outputs": [
        {
          "output_type": "execute_result",
          "data": {
            "text/plain": [
              "0.75"
            ]
          },
          "metadata": {},
          "execution_count": 11
        }
      ]
    },
    {
      "cell_type": "code",
      "source": [
        "from sklearn.metrics import accuracy_score\n",
        "q = accuracy_score(targettst,pred_test_rbf)\n",
        "r = accuracy_score(targettst,pred_test_linear)\n",
        "print( \"Test RBF Accuracy=\", q, \"Test Linear Accuracy=\", r)"
      ],
      "metadata": {
        "colab": {
          "base_uri": "https://localhost:8080/"
        },
        "id": "6HISRa9Wj_lk",
        "outputId": "275133f5-2cbd-4ba8-e32a-d2ae35fb7b61"
      },
      "execution_count": 13,
      "outputs": [
        {
          "output_type": "stream",
          "name": "stdout",
          "text": [
            "Test RBF Accuracy= 0.8333333333333334 Test Linear Accuracy= 0.85\n"
          ]
        }
      ]
    },
    {
      "cell_type": "code",
      "source": [
        "F1_score, Accuracy = metrics(targettst,pred_test_linear, \"SVM_Linear\")\n",
        "print(\"Test F1_score=\", F1_score, \"Test Accuracy=\", Accuracy)"
      ],
      "metadata": {
        "colab": {
          "base_uri": "https://localhost:8080/",
          "height": 313
        },
        "id": "LnRfdMCuoCZN",
        "outputId": "1fbcd41e-9e2d-4f82-b704-88f54c20bf9b"
      },
      "execution_count": 14,
      "outputs": [
        {
          "output_type": "stream",
          "name": "stdout",
          "text": [
            "Test F1_score= 0.8363636363636363 Test Accuracy= 0.85\n"
          ]
        },
        {
          "output_type": "display_data",
          "data": {
            "text/plain": [
              "<Figure size 432x288 with 2 Axes>"
            ],
            "image/png": "[encoded data removed]"
          },
          "metadata": {
            "needs_background": "light"
          }
        }
      ]
    },
    {
      "cell_type": "code",
      "source": [
        "F1_score, Accuracy = metrics(targettst,pred_test_rbf, \"SVM_RBF\")\n",
        "print(\"Test RBF F1_score=\", F1_score, \"Test RBF Accuracy=\", Accuracy)"
      ],
      "metadata": {
        "colab": {
          "base_uri": "https://localhost:8080/",
          "height": 313
        },
        "id": "5Nzqiq8rp5Pt",
        "outputId": "ae952d4a-1ab9-45a1-938a-4fe71533cd17"
      },
      "execution_count": 15,
      "outputs": [
        {
          "output_type": "stream",
          "name": "stdout",
          "text": [
            "Test RBF F1_score= 0.8214285714285715 Test RBF Accuracy= 0.8333333333333334\n"
          ]
        },
        {
          "output_type": "display_data",
          "data": {
            "text/plain": [
              "<Figure size 432x288 with 2 Axes>"
            ],
            "image/png": "[encoded data removed]"
          },
          "metadata": {
            "needs_background": "light"
          }
        }
      ]
    },
    {
      "cell_type": "code",
      "source": [
        "#After feature Engineering\n",
        "# Droping the 1st Least prominnent Feature \n",
        "# Drop Temperature"
      ],
      "metadata": {
        "id": "c3uDHYydtR4g"
      },
      "execution_count": 17,
      "outputs": []
    },
    {
      "cell_type": "code",
      "source": [
        "from sklearn.preprocessing import MinMaxScaler\n",
        "from sklearn.model_selection import train_test_split\n",
        "from sklearn.svm import SVC\n",
        "\n",
        "fires_train = pd.read_csv(\"/content/EE559_Project-main/datasets/algerian_fires_train.csv\")\n",
        "fires_test = pd.read_csv(\"/content/EE559_Project-main/datasets/algerian_fires_test.csv\")\n",
        "\n",
        "data = fires_train.describe()\n",
        "tstdata = fires_test.describe()\n",
        "#1drop temperature\n",
        "fires_trainx = fires_train.iloc[:,2:-1]\n",
        "fires_trainy = fires_train.iloc[:,-1]\n",
        "fires_testx = fires_test.iloc[:,2:-1]\n",
        "fires_testy = fires_test.iloc[:,-1]\n",
        "#2drop Temp,RH\n",
        "fires_trainx_2 = fires_train.iloc[:,3:-1]\n",
        "fires_trainy_2 = fires_train.iloc[:,-1]\n",
        "fires_testx_2 = fires_test.iloc[:,3:-1]\n",
        "fires_testy_2 = fires_test.iloc[:,-1]\n",
        "\n",
        "#4drop\n",
        "fires_trainx_4 = fires_train.iloc[:,5:-1]\n",
        "fires_trainy_4 = fires_train.iloc[:,-1]\n",
        "fires_testx_4 = fires_test.iloc[:,5:-1]\n",
        "fires_testy_4 = fires_test.iloc[:,-1]\n",
        "\n",
        "scalar = MinMaxScaler()\n",
        "\n",
        "fires = scalar.fit_transform(fires_trainx)\n",
        "firestst = scalar.fit_transform(fires_testx)\n",
        "#2drop\n",
        "fires_2 = scalar.fit_transform(fires_trainx_2)\n",
        "firestst_2 = scalar.fit_transform(fires_testx_2)\n",
        "#4drop\n",
        "fires_4 = scalar.fit_transform(fires_trainx_4)\n",
        "firestst_4 = scalar.fit_transform(fires_testx_4)\n",
        "\n",
        "\n",
        "#1\n",
        "model_linear = SVC(kernel = \"linear\")\n",
        "model_linear.fit(fires,fires_trainy)\n",
        "pred_test_linear = model_linear.predict(firestst)\n",
        "\n",
        "# kernel = rbf\n",
        "model_rbf = SVC(kernel = \"rbf\")\n",
        "model_rbf.fit(fires,fires_trainy)\n",
        "pred_test_rbf = model_rbf.predict(firestst)\n",
        "\n",
        "#2drop\n",
        "model_linear1 = SVC(kernel = \"linear\")\n",
        "model_linear1.fit(fires_2,fires_trainy_2)\n",
        "pred_test_linear1 = model_linear1.predict(firestst_2)\n",
        "\n",
        "#test rbf\n",
        "model_rbf1 = SVC(kernel = \"rbf\")\n",
        "model_rbf1.fit(fires_2,fires_trainy_2)\n",
        "pred_test_rbf1 = model_rbf1.predict(firestst_2)\n",
        "\n",
        "# #4drop\n",
        "model_linear4 = SVC(kernel = \"linear\")\n",
        "model_linear4.fit(fires_4,fires_trainy_4)\n",
        "# pred_test_linear4 = model_linear1.predict(firestst_4)\n",
        "\n",
        "#test rbf\n",
        "model_rbf4 = SVC(kernel = \"rbf\")\n",
        "model_rbf4.fit(fires_4,fires_trainy_4)\n",
        "pred_test_rbf4 = model_rbf4.predict(firestst_4)"
      ],
      "metadata": {
        "id": "i1GdCXDVtSLp"
      },
      "execution_count": 22,
      "outputs": []
    },
    {
      "cell_type": "code",
      "source": [
        "model_linear5 = svm.LinearSVC().fit(fires_4, fires_trainy_4)\n",
        "ans4 = model_linear5.predict(firestst_4)"
      ],
      "metadata": {
        "id": "OjETdr-zDEeY"
      },
      "execution_count": 31,
      "outputs": []
    },
    {
      "cell_type": "code",
      "source": [
        "F1_score, Accuracy = metrics(fires_testy_4, ans4, \"SVM_4drop_linear\")\n",
        "\n",
        "print(\"Test linear 4 F1_score=\", F1_score, \"Test linear 4  Accuracy=\", Accuracy)"
      ],
      "metadata": {
        "colab": {
          "base_uri": "https://localhost:8080/",
          "height": 313
        },
        "id": "_evX1yPAB2oe",
        "outputId": "d8004a42-663f-4067-a94b-0ce41df1b71b"
      },
      "execution_count": 32,
      "outputs": [
        {
          "output_type": "stream",
          "name": "stdout",
          "text": [
            "Test linear 4 F1_score= 0.8214285714285715 Test linear 4  Accuracy= 0.8333333333333334\n"
          ]
        },
        {
          "output_type": "display_data",
          "data": {
            "text/plain": [
              "<Figure size 432x288 with 2 Axes>"
            ],
            "image/png": "[encoded data removed]"
          },
          "metadata": {
            "needs_background": "light"
          }
        }
      ]
    },
    {
      "cell_type": "code",
      "source": [
        "F1_score, Accuracy = metrics(fires_testy_4, pred_test_rbf4, \"SVM_4drop_rbf\")\n",
        "\n",
        "print(\"Test rbf 4 F1_score=\", F1_score, \"Test rbf 4  Accuracy=\", Accuracy)"
      ],
      "metadata": {
        "colab": {
          "base_uri": "https://localhost:8080/",
          "height": 313
        },
        "id": "oFXB32nDBwSi",
        "outputId": "0222a108-89d3-43c8-fd3f-fc5dffbe7693"
      },
      "execution_count": 33,
      "outputs": [
        {
          "output_type": "stream",
          "name": "stdout",
          "text": [
            "Test rbf 4 F1_score= 0.8070175438596492 Test rbf 4  Accuracy= 0.8166666666666667\n"
          ]
        },
        {
          "output_type": "display_data",
          "data": {
            "text/plain": [
              "<Figure size 432x288 with 2 Axes>"
            ],
            "image/png": "[encoded data removed]"
          },
          "metadata": {
            "needs_background": "light"
          }
        }
      ]
    },
    {
      "cell_type": "code",
      "source": [
        "F1_score, Accuracy = metrics(fires_testy, pred_test_linear, \"SVM_1drop_Linear\")\n",
        "print(\"Test Linear F1_score=\", F1_score, \"Test Linear Accuracy=\", Accuracy)"
      ],
      "metadata": {
        "colab": {
          "base_uri": "https://localhost:8080/",
          "height": 313
        },
        "id": "4zHzHtmztSOJ",
        "outputId": "cf8b5a05-3162-426a-ad01-67703d9d9b33"
      },
      "execution_count": 34,
      "outputs": [
        {
          "output_type": "stream",
          "name": "stdout",
          "text": [
            "Test Linear F1_score= 0.8363636363636363 Test Linear Accuracy= 0.85\n"
          ]
        },
        {
          "output_type": "display_data",
          "data": {
            "text/plain": [
              "<Figure size 432x288 with 2 Axes>"
            ],
            "image/png": "[encoded data removed]"
          },
          "metadata": {
            "needs_background": "light"
          }
        }
      ]
    },
    {
      "cell_type": "code",
      "source": [
        "F1_score, Accuracy = metrics(fires_testy, pred_test_rbf, \"SVM_1drop_rbf\")\n",
        "print(\"Test RBF F1_score=\", F1_score, \"Test RBF Accuracy=\", Accuracy)"
      ],
      "metadata": {
        "colab": {
          "base_uri": "https://localhost:8080/",
          "height": 313
        },
        "id": "ldNg6sVe2l-B",
        "outputId": "6e011df2-d30a-407f-905b-408fc1b4934b"
      },
      "execution_count": 35,
      "outputs": [
        {
          "output_type": "stream",
          "name": "stdout",
          "text": [
            "Test RBF F1_score= 0.8214285714285715 Test RBF Accuracy= 0.8333333333333334\n"
          ]
        },
        {
          "output_type": "display_data",
          "data": {
            "text/plain": [
              "<Figure size 432x288 with 2 Axes>"
            ],
            "image/png": "[encoded data removed]"
          },
          "metadata": {
            "needs_background": "light"
          }
        }
      ]
    },
    {
      "cell_type": "code",
      "source": [
        "F1_score, Accuracy = metrics(fires_testy_2, pred_test_linear1, \"SVM_2drop_Linear\")\n",
        "print(\"Test Linear 2drop F1_score=\", F1_score, \"Test Linear 2drop Accuracy=\", Accuracy)"
      ],
      "metadata": {
        "colab": {
          "base_uri": "https://localhost:8080/",
          "height": 313
        },
        "id": "n0ocpFuq3zDI",
        "outputId": "55ed94f6-4897-4a78-ef60-bfa3e554d82b"
      },
      "execution_count": 36,
      "outputs": [
        {
          "output_type": "stream",
          "name": "stdout",
          "text": [
            "Test Linear 2drop F1_score= 0.8363636363636363 Test Linear 2drop Accuracy= 0.85\n"
          ]
        },
        {
          "output_type": "display_data",
          "data": {
            "text/plain": [
              "<Figure size 432x288 with 2 Axes>"
            ],
            "image/png": "[encoded data removed]"
          },
          "metadata": {
            "needs_background": "light"
          }
        }
      ]
    },
    {
      "cell_type": "code",
      "source": [
        "F1_score, Accuracy = metrics(fires_testy_2, pred_test_rbf1, \"SVM_2drop_rbf\")\n",
        "print(\"Test RBF 2drop F1_score=\", F1_score, \"Test RBF 2drop Accuracy=\", Accuracy)"
      ],
      "metadata": {
        "colab": {
          "base_uri": "https://localhost:8080/",
          "height": 313
        },
        "id": "x29QTsAo31OI",
        "outputId": "89017845-da47-453b-bc56-2b688720a15a"
      },
      "execution_count": 37,
      "outputs": [
        {
          "output_type": "stream",
          "name": "stdout",
          "text": [
            "Test RBF 2drop F1_score= 0.8214285714285715 Test RBF 2drop Accuracy= 0.8333333333333334\n"
          ]
        },
        {
          "output_type": "display_data",
          "data": {
            "text/plain": [
              "<Figure size 432x288 with 2 Axes>"
            ],
            "image/png": "[encoded data removed]"
          },
          "metadata": {
            "needs_background": "light"
          }
        }
      ]
    }
  ]
}