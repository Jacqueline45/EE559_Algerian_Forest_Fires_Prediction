{
  "nbformat": 4,
  "nbformat_minor": 0,
  "metadata": {
    "colab": {
      "name": "SVM.ipynb",
      "provenance": [],
      "collapsed_sections": [],
      "authorship_tag": "ABX9TyPGvZCkfU+cSBiH0HnTpoE1",
      "include_colab_link": true
    },
    "kernelspec": {
      "name": "python3",
      "display_name": "Python 3"
    },
    "language_info": {
      "name": "python"
    },
    "accelerator": "GPU"
  },
  "cells": [
    {
      "cell_type": "markdown",
      "metadata": {
        "id": "view-in-github",
        "colab_type": "text"
      },
      "source": [
        "<a href=\"https://colab.research.google.com/github/Jacqueline45/EE559_Project/blob/main/SVM.ipynb\" target=\"_parent\"><img src=\"https://colab.research.google.com/assets/colab-badge.svg\" alt=\"Open In Colab\"/></a>"
      ]
    },
    {
      "cell_type": "code",
      "source": [
        "!unzip /content/EE559_Project-main.zip\n"
      ],
      "metadata": {
        "colab": {
          "base_uri": "https://localhost:8080/"
        },
        "id": "0yp0e1yzfeUt",
        "outputId": "460ba6fd-4b11-49a3-8102-25911efb9747"
      },
      "execution_count": 58,
      "outputs": [
        {
          "output_type": "stream",
          "name": "stdout",
          "text": [
            "Archive:  /content/EE559_Project-main.zip\n",
            "cd4e0a51e0b87e7bb5bd032f2efedcc9a0da1845\n",
            "replace EE559_Project-main/.DS_Store? [y]es, [n]o, [A]ll, [N]one, [r]ename: "
          ]
        }
      ]
    },
    {
      "cell_type": "code",
      "source": [
        "import pandas as pd \n",
        "import imblearn\n",
        "import numpy as np \n",
        "\n",
        "from sklearn.preprocessing import StandardScaler\n",
        "from sklearn.neighbors import KNeighborsClassifier\n",
        "from imblearn.over_sampling import SMOTE\n",
        "\n",
        "from sklearn.svm import SVC\n",
        "from sklearn.model_selection import train_test_split"
      ],
      "metadata": {
        "id": "fmtBdtZKlp0z"
      },
      "execution_count": 59,
      "outputs": []
    },
    {
      "cell_type": "code",
      "source": [
        "from sklearn.metrics import confusion_matrix\n",
        "import seaborn as sns\n",
        "import matplotlib.pyplot as plt\n",
        "\n",
        "# Generates all performance measures\n",
        "\n",
        "def metrics(true_labels, pred_labels, plot_title, work='test'):\n",
        "    cf_matrix = confusion_matrix(true_labels, pred_labels)\n",
        "    TP, TN, FP, FN = cf_matrix[1][1], cf_matrix[0][0], cf_matrix[0][1], cf_matrix[1][0]\n",
        "    Recall = TP/(TP+FN)\n",
        "    Precision = TP/(TP+FP)\n",
        "    F1_score = 2*Recall*Precision/(Recall+Precision)\n",
        "    Accuracy = (TP+TN)/true_labels.shape[0]\n",
        "    \n",
        "    if work == 'test':\n",
        "        ax = sns.heatmap(cf_matrix, annot=True, cmap='Blues')\n",
        "\n",
        "        ax.set_title(plot_title)\n",
        "        ax.set_xlabel('Predicted Values')\n",
        "        ax.set_ylabel('Actual Values ')\n",
        "\n",
        "        ax.xaxis.set_ticklabels(['0','1'])\n",
        "        ax.yaxis.set_ticklabels(['0','1'])\n",
        "\n",
        "        plt.savefig('/content/EE559_Project-main/cf_matrix_plots/'+plot_title+'.png')\n",
        "\n",
        "        return F1_score, Accuracy\n",
        "\n",
        "    else:\n",
        "        return F1_score, Accuracy, TP, TN, FP, FN\n",
        "\n",
        "def plot_val_cf_matrix(true_labels, pred_labels, plot_title, TP, TN, FP, FN):\n",
        "    cf_matrix = confusion_matrix(true_labels, pred_labels)\n",
        "    cf_matrix[1][1], cf_matrix[0][0], cf_matrix[0][1], cf_matrix[1][0] = TP, TN, FP, FN\n",
        "    \n",
        "    ax = sns.heatmap(cf_matrix, annot=True, cmap='Blues')\n",
        "\n",
        "    ax.set_title(plot_title)\n",
        "    ax.set_xlabel('Predicted Values')\n",
        "    ax.set_ylabel('Actual Values ')\n",
        "\n",
        "    ## Ticket labels - List must be in alphabetical order\n",
        "    ax.xaxis.set_ticklabels(['0','1'])\n",
        "    ax.yaxis.set_ticklabels(['0','1'])\n",
        "\n",
        "    plt.savefig('/content/EE559_Project-main/cf_matrix_plot/'+plot_title+'_val.png')"
      ],
      "metadata": {
        "id": "ePsCx9Own0DN"
      },
      "execution_count": 60,
      "outputs": []
    },
    {
      "cell_type": "code",
      "execution_count": 61,
      "metadata": {
        "id": "rFjH9PL2mnpf",
        "colab": {
          "base_uri": "https://localhost:8080/"
        },
        "outputId": "97d6a145-7665-4994-a29b-d4c59d2ac471"
      },
      "outputs": [
        {
          "output_type": "stream",
          "name": "stderr",
          "text": [
            "/usr/local/lib/python3.7/dist-packages/sklearn/utils/validation.py:993: DataConversionWarning: A column-vector y was passed when a 1d array was expected. Please change the shape of y to (n_samples, ), for example using ravel().\n",
            "  y = column_or_1d(y, warn=True)\n",
            "/usr/local/lib/python3.7/dist-packages/sklearn/utils/validation.py:993: DataConversionWarning: A column-vector y was passed when a 1d array was expected. Please change the shape of y to (n_samples, ), for example using ravel().\n",
            "  y = column_or_1d(y, warn=True)\n",
            "/usr/local/lib/python3.7/dist-packages/sklearn/utils/validation.py:993: DataConversionWarning: A column-vector y was passed when a 1d array was expected. Please change the shape of y to (n_samples, ), for example using ravel().\n",
            "  y = column_or_1d(y, warn=True)\n",
            "/usr/local/lib/python3.7/dist-packages/sklearn/utils/validation.py:993: DataConversionWarning: A column-vector y was passed when a 1d array was expected. Please change the shape of y to (n_samples, ), for example using ravel().\n",
            "  y = column_or_1d(y, warn=True)\n"
          ]
        }
      ],
      "source": [
        "from sklearn.preprocessing import MinMaxScaler\n",
        "from sklearn.model_selection import train_test_split\n",
        "from sklearn.svm import SVC\n",
        "\n",
        "fires_train = pd.read_csv(\"/content/EE559_Project-main/datasets/algerian_fires_train.csv\")\n",
        "fires_test = pd.read_csv(\"/content/EE559_Project-main/datasets/algerian_fires_test.csv\")\n",
        "\n",
        "data = fires_train.describe()\n",
        "tstdata = fires_test.describe()\n",
        "\n",
        "fires_train = fires_train.iloc[:,1:]\n",
        "fires_test = fires_test.iloc[:,1:]\n",
        "\n",
        "\n",
        "##Normalising the data as there is scale difference\n",
        "predictors = fires_train.iloc[:,:-1]\n",
        "target = fires_train.iloc[:,-1:]\n",
        "\n",
        "predictorstst = fires_test.iloc[:,:-1]\n",
        "targettst = fires_test.iloc[:,-1:]\n",
        "\n",
        "scalar = MinMaxScaler()\n",
        "\n",
        "fires = scalar.fit_transform(predictors)\n",
        "firestst = scalar.fit_transform(predictorstst)\n",
        "\n",
        "x_train,x_test,y_train,y_test = train_test_split(predictors,target, stratify = target)\n",
        "\n",
        "X_train,X_test,Y_train,Y_test = train_test_split(predictorstst,targettst, stratify = targettst)\n",
        "\n",
        "\n",
        "model_linear = SVC(kernel = \"linear\")\n",
        "model_linear.fit(x_train,y_train)\n",
        "pred_test_linear = model_linear.predict(x_test)\n",
        "\n",
        "#test\n",
        "\n",
        "model_linear1 = SVC(kernel = \"linear\")\n",
        "model_linear1.fit(X_train,Y_train)\n",
        "pred_test_linear1 = model_linear1.predict(X_test)\n",
        "\n",
        "# kernel = rbf\n",
        "model_rbf = SVC(kernel = \"rbf\")\n",
        "model_rbf.fit(x_train,y_train)\n",
        "pred_test_rbf = model_rbf.predict(x_test)\n",
        "\n",
        "#test rbf\n",
        "model_rbf1 = SVC(kernel = \"rbf\")\n",
        "model_rbf1.fit(x_train,y_train)\n",
        "pred_test_rbf1 = model_rbf1.predict(X_test)\n"
      ]
    },
    {
      "cell_type": "code",
      "source": [
        "from sklearn.metrics import accuracy_score\n",
        "p = accuracy_score(y_test,pred_test_linear)\n",
        "q = accuracy_score(y_test,pred_test_rbf)\n",
        "r = accuracy_score(Y_test,pred_test_linear1)\n",
        "s = accuracy_score(Y_test,pred_test_rbf1)\n",
        "\n",
        "print(\"Train Linear Accuracy=\", p, \"Train RBF Accuracy=\", q, \"Test Linear Accuracy=\", r, \"Test RBF Accuracy=\", s)"
      ],
      "metadata": {
        "colab": {
          "base_uri": "https://localhost:8080/"
        },
        "id": "6HISRa9Wj_lk",
        "outputId": "f43b294d-6786-4257-98f2-a16ef9e8e82b"
      },
      "execution_count": 62,
      "outputs": [
        {
          "output_type": "stream",
          "name": "stdout",
          "text": [
            "Train Linear Accuracy= 0.9130434782608695 Train RBF Accuracy= 0.8260869565217391 Test Linear Accuracy= 0.8666666666666667 Test RBF Accuracy= 0.8666666666666667\n"
          ]
        }
      ]
    },
    {
      "cell_type": "code",
      "source": [
        "F1_score, Accuracy = metrics(y_test, pred_test_linear, \"SVM_Linear\")\n",
        "print(\"Train F1_score=\", F1_score, \"Train Accuracy=\", Accuracy)"
      ],
      "metadata": {
        "colab": {
          "base_uri": "https://localhost:8080/",
          "height": 313
        },
        "id": "LnRfdMCuoCZN",
        "outputId": "7751b3a2-2385-4ed1-b88f-120ff9bd666b"
      },
      "execution_count": 63,
      "outputs": [
        {
          "output_type": "stream",
          "name": "stdout",
          "text": [
            "Train F1_score= 0.9285714285714286 Train Accuracy= 0.9130434782608695\n"
          ]
        },
        {
          "output_type": "display_data",
          "data": {
            "text/plain": [
              "<Figure size 432x288 with 2 Axes>"
            ],
            "image/png": "[encoded data removed]"
          },
          "metadata": {
            "needs_background": "light"
          }
        }
      ]
    },
    {
      "cell_type": "code",
      "source": [
        "F1_score, Accuracy = metrics(y_test, pred_test_rbf, \"SVM_RBF\")\n",
        "print(\"Train RBF F1_score=\", F1_score, \"Train RBF Accuracy=\", Accuracy)"
      ],
      "metadata": {
        "colab": {
          "base_uri": "https://localhost:8080/",
          "height": 313
        },
        "id": "5Nzqiq8rp5Pt",
        "outputId": "ef2c2bdc-2e07-4b3f-9420-ad9c3191704b"
      },
      "execution_count": 64,
      "outputs": [
        {
          "output_type": "stream",
          "name": "stdout",
          "text": [
            "Train RBF F1_score= 0.8666666666666666 Train RBF Accuracy= 0.8260869565217391\n"
          ]
        },
        {
          "output_type": "display_data",
          "data": {
            "text/plain": [
              "<Figure size 432x288 with 2 Axes>"
            ],
            "image/png": "[encoded data removed]"
          },
          "metadata": {
            "needs_background": "light"
          }
        }
      ]
    },
    {
      "cell_type": "code",
      "source": [
        "F1_score, Accuracy = metrics(Y_test, pred_test_linear1, \"SVM_Test_Set\")\n",
        "print(\"Test F1_score=\", F1_score, \"Test Accuracy=\", Accuracy)"
      ],
      "metadata": {
        "colab": {
          "base_uri": "https://localhost:8080/",
          "height": 313
        },
        "id": "uavHXbW4tdIH",
        "outputId": "4d465d6b-dc04-460a-b367-61117b8890a2"
      },
      "execution_count": 65,
      "outputs": [
        {
          "output_type": "stream",
          "name": "stdout",
          "text": [
            "Test F1_score= 0.8333333333333334 Test Accuracy= 0.8666666666666667\n"
          ]
        },
        {
          "output_type": "display_data",
          "data": {
            "text/plain": [
              "<Figure size 432x288 with 2 Axes>"
            ],
            "image/png": "[encoded data removed]"
          },
          "metadata": {
            "needs_background": "light"
          }
        }
      ]
    },
    {
      "cell_type": "code",
      "source": [
        "F1_score, Accuracy = metrics(Y_test, pred_test_rbf1, \"SVM_Test_RBF\")\n",
        "print(\"Test RBF F1_score=\", F1_score, \"Test RBF Accuracy=\", Accuracy)"
      ],
      "metadata": {
        "colab": {
          "base_uri": "https://localhost:8080/",
          "height": 313
        },
        "id": "AA-X8_sFwP3q",
        "outputId": "fc287087-c194-47a7-c5e3-bed0d5a7417c"
      },
      "execution_count": 66,
      "outputs": [
        {
          "output_type": "stream",
          "name": "stdout",
          "text": [
            "Test RBF F1_score= 0.8333333333333334 Test RBF Accuracy= 0.8666666666666667\n"
          ]
        },
        {
          "output_type": "display_data",
          "data": {
            "text/plain": [
              "<Figure size 432x288 with 2 Axes>"
            ],
            "image/png": "[encoded data removed]"
          },
          "metadata": {
            "needs_background": "light"
          }
        }
      ]
    },
    {
      "cell_type": "code",
      "source": [
        ""
      ],
      "metadata": {
        "id": "4vKnqsDH2-rc"
      },
      "execution_count": 57,
      "outputs": []
    }
  ]
}